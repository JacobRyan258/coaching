{
 "cells": [
  {
   "cell_type": "code",
   "execution_count": 1,
   "id": "ancient-measurement",
   "metadata": {},
   "outputs": [],
   "source": [
    "import pandas as pd\n",
    "import numpy as np\n",
    "import collections\n",
    "import re\n",
    "import sqlite3"
   ]
  },
  {
   "cell_type": "code",
   "execution_count": 2,
   "id": "intended-lingerie",
   "metadata": {},
   "outputs": [],
   "source": [
    "# Change this to your path to the DB file!\n",
    "database = \"flights.db\"\n",
    "conn = sqlite3.connect(database)"
   ]
  },
  {
   "cell_type": "markdown",
   "id": "operating-sleeve",
   "metadata": {},
   "source": [
    "### Load raw data "
   ]
  },
  {
   "cell_type": "code",
   "execution_count": 3,
   "id": "polish-finger",
   "metadata": {},
   "outputs": [],
   "source": [
    "# load our datasets\n",
    "# These first four are used as lookup tables\n",
    "airlines =     pd.read_sql('SELECT * FROM airlines', con=conn)\n",
    "airports =     pd.read_sql('SELECT * FROM airports', con=conn)\n",
    "cancel_codes = pd.read_sql('SELECT * FROM cancel_codes', con=conn)\n",
    "carriers =     pd.read_sql('SELECT * FROM carriers', con=conn)\n",
    "# This has all the data about flights\n",
    "flights =      pd.read_sql('SELECT * FROM flights', con=conn)"
   ]
  },
  {
   "cell_type": "code",
   "execution_count": 4,
   "id": "congressional-escape",
   "metadata": {},
   "outputs": [],
   "source": [
    "#Closing the connection to the db, since we're done using it\n",
    "conn.close()"
   ]
  },
  {
   "cell_type": "markdown",
   "id": "armed-seven",
   "metadata": {},
   "source": [
    "### Some transforms to get it ready for analysis"
   ]
  },
  {
   "cell_type": "code",
   "execution_count": 5,
   "id": "electoral-confidence",
   "metadata": {},
   "outputs": [],
   "source": [
    "# Turn our flights table into a list of dicts\n",
    "# Normally we wouldn't do this, but for the sake of learning to deal with data\n",
    "# structures in Python, we'll do it this way :)\n",
    "flights = flights.to_dict(orient='records')"
   ]
  },
  {
   "cell_type": "code",
   "execution_count": 6,
   "id": "050067ec",
   "metadata": {},
   "outputs": [
    {
     "data": {
      "text/plain": [
       "list"
      ]
     },
     "execution_count": 6,
     "metadata": {},
     "output_type": "execute_result"
    }
   ],
   "source": [
    "type(flights)"
   ]
  },
  {
   "cell_type": "code",
   "execution_count": 7,
   "id": "21d0dcdb",
   "metadata": {},
   "outputs": [
    {
     "name": "stdout",
     "output_type": "stream",
     "text": [
      "410517\n"
     ]
    }
   ],
   "source": [
    "#flights is currently a list of dicts technically stored in an array. \n",
    "#It has 410,517 elements in it.\n",
    "print(len(flights))"
   ]
  },
  {
   "cell_type": "code",
   "execution_count": 8,
   "id": "d2187bb9",
   "metadata": {},
   "outputs": [
    {
     "data": {
      "text/plain": [
       "{'DAY_OF_MONTH': 1,\n",
       " 'DAY_OF_WEEK': 3,\n",
       " 'FL_DATE': '2017-02-01',\n",
       " 'UNIQUE_CARRIER': 'B6',\n",
       " 'AIRLINE_ID': 20409,\n",
       " 'FL_NUM': 33,\n",
       " 'ORIGIN_AIRPORT_ID': 10785,\n",
       " 'ORIGIN_CITY_NAME': 'Burlington, VT',\n",
       " 'ORIGIN_STATE_NM': 'Vermont',\n",
       " 'DEST_AIRPORT_ID': 12478,\n",
       " 'DEST_CITY_NAME': 'New York, NY',\n",
       " 'DEST_STATE_NM': 'New York',\n",
       " 'DEP_TIME': 1857.0,\n",
       " 'DEP_DELAY': -10.0,\n",
       " 'TAXI_OUT': 16.0,\n",
       " 'WHEELS_OFF': 1913.0,\n",
       " 'WHEELS_ON': 2019.0,\n",
       " 'TAXI_IN': 10.0,\n",
       " 'ARR_TIME': 2029.0,\n",
       " 'ARR_DELAY': -8.0,\n",
       " 'CANCELLED': 0,\n",
       " 'CANCELLATION_CODE': None,\n",
       " 'DIVERTED': 0,\n",
       " 'ACTUAL_ELAPSED_TIME': 92.0,\n",
       " 'FLIGHTS': 1,\n",
       " 'DISTANCE': 266,\n",
       " 'CARRIER_DELAY': nan,\n",
       " 'WEATHER_DELAY': nan,\n",
       " 'NAS_DELAY': nan,\n",
       " 'SECURITY_DELAY': nan,\n",
       " 'LATE_AIRCRAFT_DELAY': nan,\n",
       " 'Unnamed: 31': None}"
      ]
     },
     "execution_count": 8,
     "metadata": {},
     "output_type": "execute_result"
    }
   ],
   "source": [
    "#viewing and inspecting the first element.\n",
    "flights[0]"
   ]
  },
  {
   "cell_type": "markdown",
   "id": "passing-terrorist",
   "metadata": {},
   "source": [
    "### HW 1: Answer the following questions about the `flights` :"
   ]
  },
  {
   "cell_type": "markdown",
   "id": "welsh-advisory",
   "metadata": {},
   "source": [
    "What datatype is our `flights` object now (a list, dict, etc)?"
   ]
  },
  {
   "cell_type": "markdown",
   "id": "accurate-investment",
   "metadata": {},
   "source": [
    "How many elements are in it?"
   ]
  },
  {
   "cell_type": "markdown",
   "id": "limiting-dinner",
   "metadata": {},
   "source": [
    "How can we look at/inspect the first element?"
   ]
  },
  {
   "cell_type": "markdown",
   "id": "documented-collectible",
   "metadata": {},
   "source": [
    "### HW 2: Create dictionaries from our lookup tables, making the `Code` the key and the `Description` the value"
   ]
  },
  {
   "cell_type": "code",
   "execution_count": 9,
   "id": "statistical-equilibrium",
   "metadata": {},
   "outputs": [],
   "source": [
    "cancel_codes_dict = dict(zip(cancel_codes.Code, cancel_codes.Description))\n",
    "\n",
    "# Go ahead and create more dictionaries for airlines, airports and carriers where\n",
    "# for each the key will be the `Code` and the value will be the `Description`\n",
    "\n",
    "airlines_dict = dict(zip(airlines.Code, airlines.Description))\n",
    "\n",
    "airports_dict = dict(zip(airports.Code, airports.Description))\n",
    "\n",
    "carriers_dict = dict(zip(carriers.Code, carriers.Description))\n",
    "# When you're done there should be four dicts (cancel_codes_dict, airlines_dict, airports_dict, carriers_dict)"
   ]
  },
  {
   "cell_type": "markdown",
   "id": "closed-station",
   "metadata": {},
   "source": [
    "### HW 3: Add in our dictionary mappings to our `flights` data\n",
    "Using our mappings, please create the following new keys in each 'row' of flights with the appropriate value:\n",
    " - AIRLINE_NAME\n",
    " - ORIGIN_AIRPORT_NAME\n",
    " - CARRIER_NAME\n",
    " - CANCELLATION_REASON"
   ]
  },
  {
   "cell_type": "code",
   "execution_count": 14,
   "id": "a548918a",
   "metadata": {},
   "outputs": [
    {
     "ename": "ValueError",
     "evalue": "too many values to unpack (expected 1)",
     "output_type": "error",
     "traceback": [
      "\u001b[1;31m---------------------------------------------------------------------------\u001b[0m",
      "\u001b[1;31mValueError\u001b[0m                                Traceback (most recent call last)",
      "\u001b[1;32m~\\AppData\\Local\\Temp/ipykernel_8320/1687929590.py\u001b[0m in \u001b[0;36m<module>\u001b[1;34m\u001b[0m\n\u001b[1;32m----> 1\u001b[1;33m \u001b[1;32mfor\u001b[0m \u001b[0mairlines_dict\u001b[0m\u001b[1;33m,\u001b[0m \u001b[1;32min\u001b[0m \u001b[0mflights\u001b[0m\u001b[1;33m:\u001b[0m\u001b[1;33m\u001b[0m\u001b[1;33m\u001b[0m\u001b[0m\n\u001b[0m\u001b[0;32m      2\u001b[0m     \u001b[0mlist\u001b[0m\u001b[1;33m(\u001b[0m\u001b[0mmap\u001b[0m\u001b[1;33m(\u001b[0m\u001b[0mairlines_dict\u001b[0m\u001b[1;33m.\u001b[0m\u001b[0mget\u001b[0m\u001b[1;33m,\u001b[0m \u001b[0mflights\u001b[0m\u001b[1;33m)\u001b[0m\u001b[1;33m)\u001b[0m\u001b[1;33m\u001b[0m\u001b[1;33m\u001b[0m\u001b[0m\n",
      "\u001b[1;31mValueError\u001b[0m: too many values to unpack (expected 1)"
     ]
    }
   ],
   "source": [
    "#for airlines_dict, in flights:\n",
    "    #list(map(airlines_dict.get, flights))\n",
    "    \n",
    "    #for row_dict in flights:\n",
    "    #AIRLINE_NAME = airlines_dict['AIRLINE_NAME']\n",
    "\n",
    "\n",
    "#for row_dict, in flights:\n",
    "    #AIRLINE_NAME = airlines_dict['airlines.Code', 'airlines.Description']\n",
    "    \n",
    "   \n",
    "#flights = []\n",
    "\n",
    "#for row_dict, in flights:\n",
    "    #flights.append(airlines_dict.get(row_dict))\n",
    "    \n",
    "\n",
    "#for airlines_dict, in flights:\n",
    "    #if airlines_dict.get('AIRLINE_ID') == airlines_dict[0]:\n",
    "        #AIRLINE_NAME = airlines_dict['value']\n",
    "\n",
    "\n",
    "\n",
    "#flights.append(airlines_dict.get(AIRLINE_NAME))"
   ]
  }
 ],
 "metadata": {
  "kernelspec": {
   "display_name": "Python 3 (ipykernel)",
   "language": "python",
   "name": "python3"
  },
  "language_info": {
   "codemirror_mode": {
    "name": "ipython",
    "version": 3
   },
   "file_extension": ".py",
   "mimetype": "text/x-python",
   "name": "python",
   "nbconvert_exporter": "python",
   "pygments_lexer": "ipython3",
   "version": "3.9.6"
  },
  "toc-autonumbering": false
 },
 "nbformat": 4,
 "nbformat_minor": 5
}
