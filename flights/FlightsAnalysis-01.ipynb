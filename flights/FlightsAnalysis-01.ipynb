{
 "cells": [
  {
   "cell_type": "code",
   "execution_count": 1,
   "id": "ancient-measurement",
   "metadata": {},
   "outputs": [],
   "source": [
    "import pandas as pd\n",
    "import numpy as np\n",
    "import collections\n",
    "import re\n",
    "import sqlite3"
   ]
  },
  {
   "cell_type": "code",
   "execution_count": 2,
   "id": "intended-lingerie",
   "metadata": {},
   "outputs": [],
   "source": [
    "# Change this to your path to the DB file!\n",
    "conn = sqlite3.connect(\"/path/to/flights.db\")"
   ]
  },
  {
   "cell_type": "markdown",
   "id": "operating-sleeve",
   "metadata": {},
   "source": [
    "### Load raw data "
   ]
  },
  {
   "cell_type": "code",
   "execution_count": 3,
   "id": "polish-finger",
   "metadata": {},
   "outputs": [],
   "source": [
    "# load our datasets\n",
    "# These first four are used as lookup tables\n",
    "airlines =     pd.read_sql('SELECT * FROM airlines', con=conn)\n",
    "airports =     pd.read_sql('SELECT * FROM airports', con=conn)\n",
    "cancel_codes = pd.read_sql('SELECT * FROM cancel_codes', con=conn)\n",
    "carriers =     pd.read_sql('SELECT * FROM carriers', con=conn)\n",
    "# This has all the data about flights\n",
    "flights =      pd.read_sql('SELECT * FROM flights', con=conn)"
   ]
  },
  {
   "cell_type": "code",
   "execution_count": null,
   "id": "congressional-escape",
   "metadata": {},
   "outputs": [],
   "source": [
    "#Closing the connection to the db, since we're done using it\n",
    "conn.close()"
   ]
  },
  {
   "cell_type": "markdown",
   "id": "armed-seven",
   "metadata": {},
   "source": [
    "### Some transforms to get it ready for analysis"
   ]
  },
  {
   "cell_type": "code",
   "execution_count": 4,
   "id": "electoral-confidence",
   "metadata": {},
   "outputs": [],
   "source": [
    "# Turn our flights table into a list of dicts\n",
    "# Normally we wouldn't do this, but for the sake of learning to deal with data\n",
    "# structures in Python, we'll do it this way :)\n",
    "flights = flights.to_dict(orient='records')"
   ]
  },
  {
   "cell_type": "markdown",
   "id": "passing-terrorist",
   "metadata": {},
   "source": [
    "### HW 1: Answer the following questions about the `flights` :"
   ]
  },
  {
   "cell_type": "markdown",
   "id": "welsh-advisory",
   "metadata": {},
   "source": [
    "What datatype is our `flights` object now (a list, dict, etc)?"
   ]
  },
  {
   "cell_type": "markdown",
   "id": "accurate-investment",
   "metadata": {},
   "source": [
    "How many elements are in it?"
   ]
  },
  {
   "cell_type": "markdown",
   "id": "limiting-dinner",
   "metadata": {},
   "source": [
    "How can we look at/inspect the first element?"
   ]
  },
  {
   "cell_type": "markdown",
   "id": "documented-collectible",
   "metadata": {},
   "source": [
    "### HW 2: Create dictionaries from our lookup tables, making the `Code` the key and the `Description` the value"
   ]
  },
  {
   "cell_type": "code",
   "execution_count": 8,
   "id": "statistical-equilibrium",
   "metadata": {},
   "outputs": [],
   "source": [
    "cancel_codes_dict = dict(zip(cancel_codes.Code, cancel_codes.Description))\n",
    "\n",
    "# Go ahead and create more dictionaries for airlines, airports and carriers where\n",
    "# for each the key will be the `Code` and the value will be the `Description`\n",
    "\n",
    "# When you're done there should be four dicts (cancel_codes_dict, airlines_dict, airports_dict, carriers_dict)"
   ]
  },
  {
   "cell_type": "markdown",
   "id": "closed-station",
   "metadata": {},
   "source": [
    "### HW 3: Add in our dictionary mappings to our `flights` data\n",
    "Using our mappings, please create the following new keys in each 'row' of flights with the appropriate value:\n",
    " - AIRLINE_NAME\n",
    " - ORIGIN_AIRPORT_NAME\n",
    " - CARRIER_NAME\n",
    " - CANCELLATION_REASON"
   ]
  },
  {
   "cell_type": "code",
   "execution_count": 10,
   "id": "sporting-visit",
   "metadata": {},
   "outputs": [],
   "source": [
    "for row_dict in flights:\n",
    "    # Do stuff here!\n",
    "    ..."
   ]
  },
  {
   "cell_type": "code",
   "execution_count": null,
   "id": "orange-panel",
   "metadata": {},
   "outputs": [],
   "source": []
  }
 ],
 "metadata": {
  "kernelspec": {
   "display_name": "Python 3",
   "language": "python",
   "name": "python3"
  },
  "language_info": {
   "codemirror_mode": {
    "name": "ipython",
    "version": 3
   },
   "file_extension": ".py",
   "mimetype": "text/x-python",
   "name": "python",
   "nbconvert_exporter": "python",
   "pygments_lexer": "ipython3",
   "version": "3.8.3"
  },
  "toc-autonumbering": false
 },
 "nbformat": 4,
 "nbformat_minor": 5
}
