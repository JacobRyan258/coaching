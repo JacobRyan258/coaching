{
 "cells": [
  {
   "cell_type": "code",
   "execution_count": 1,
   "id": "ancient-measurement",
   "metadata": {},
   "outputs": [],
   "source": [
    "import pandas as pd\n",
    "import numpy as np\n",
    "import collections\n",
    "import re\n",
    "import sqlite3"
   ]
  },
  {
   "cell_type": "code",
   "execution_count": 2,
   "id": "intended-lingerie",
   "metadata": {},
   "outputs": [],
   "source": [
    "# Change this to your path to the DB file!\n",
    "database = \"flights.db\"\n",
    "conn = sqlite3.connect(database)"
   ]
  },
  {
   "cell_type": "markdown",
   "id": "operating-sleeve",
   "metadata": {},
   "source": [
    "### Load raw data "
   ]
  },
  {
   "cell_type": "code",
   "execution_count": 3,
   "id": "polish-finger",
   "metadata": {},
   "outputs": [],
   "source": [
    "# load our datasets\n",
    "# These first four are used as lookup tables\n",
    "airlines =     pd.read_sql('SELECT * FROM airlines', con=conn)\n",
    "airports =     pd.read_sql('SELECT * FROM airports', con=conn)\n",
    "cancel_codes = pd.read_sql('SELECT * FROM cancel_codes', con=conn)\n",
    "carriers =     pd.read_sql('SELECT * FROM carriers', con=conn)\n",
    "# This has all the data about flights\n",
    "flights =      pd.read_sql('SELECT * FROM flights', con=conn)"
   ]
  },
  {
   "cell_type": "code",
   "execution_count": 4,
   "id": "congressional-escape",
   "metadata": {},
   "outputs": [],
   "source": [
    "#Closing the connection to the db, since we're done using it\n",
    "conn.close()"
   ]
  },
  {
   "cell_type": "markdown",
   "id": "armed-seven",
   "metadata": {},
   "source": [
    "### Some transforms to get it ready for analysis"
   ]
  },
  {
   "cell_type": "code",
   "execution_count": 5,
   "id": "electoral-confidence",
   "metadata": {},
   "outputs": [],
   "source": [
    "# Turn our flights table into a list of dicts\n",
    "# Normally we wouldn't do this, but for the sake of learning to deal with data\n",
    "# structures in Python, we'll do it this way :)\n",
    "flights = flights.to_dict(orient='records')"
   ]
  },
  {
   "cell_type": "code",
   "execution_count": 6,
   "id": "050067ec",
   "metadata": {},
   "outputs": [
    {
     "data": {
      "text/plain": [
       "list"
      ]
     },
     "execution_count": 6,
     "metadata": {},
     "output_type": "execute_result"
    }
   ],
   "source": [
    "type(flights)"
   ]
  },
  {
   "cell_type": "code",
   "execution_count": 7,
   "id": "21d0dcdb",
   "metadata": {},
   "outputs": [
    {
     "name": "stdout",
     "output_type": "stream",
     "text": [
      "410517\n"
     ]
    }
   ],
   "source": [
    "#flights is currently a list of dicts technically stored in an array. \n",
    "#It has 410,517 elements in it.\n",
    "print(len(flights))"
   ]
  },
  {
   "cell_type": "code",
   "execution_count": 8,
   "id": "d2187bb9",
   "metadata": {},
   "outputs": [
    {
     "data": {
      "text/plain": [
       "{'DAY_OF_MONTH': 1,\n",
       " 'DAY_OF_WEEK': 3,\n",
       " 'FL_DATE': '2017-02-01',\n",
       " 'UNIQUE_CARRIER': 'B6',\n",
       " 'AIRLINE_ID': 20409,\n",
       " 'FL_NUM': 33,\n",
       " 'ORIGIN_AIRPORT_ID': 10785,\n",
       " 'ORIGIN_CITY_NAME': 'Burlington, VT',\n",
       " 'ORIGIN_STATE_NM': 'Vermont',\n",
       " 'DEST_AIRPORT_ID': 12478,\n",
       " 'DEST_CITY_NAME': 'New York, NY',\n",
       " 'DEST_STATE_NM': 'New York',\n",
       " 'DEP_TIME': 1857.0,\n",
       " 'DEP_DELAY': -10.0,\n",
       " 'TAXI_OUT': 16.0,\n",
       " 'WHEELS_OFF': 1913.0,\n",
       " 'WHEELS_ON': 2019.0,\n",
       " 'TAXI_IN': 10.0,\n",
       " 'ARR_TIME': 2029.0,\n",
       " 'ARR_DELAY': -8.0,\n",
       " 'CANCELLED': 0,\n",
       " 'CANCELLATION_CODE': None,\n",
       " 'DIVERTED': 0,\n",
       " 'ACTUAL_ELAPSED_TIME': 92.0,\n",
       " 'FLIGHTS': 1,\n",
       " 'DISTANCE': 266,\n",
       " 'CARRIER_DELAY': nan,\n",
       " 'WEATHER_DELAY': nan,\n",
       " 'NAS_DELAY': nan,\n",
       " 'SECURITY_DELAY': nan,\n",
       " 'LATE_AIRCRAFT_DELAY': nan,\n",
       " 'Unnamed: 31': None}"
      ]
     },
     "execution_count": 8,
     "metadata": {},
     "output_type": "execute_result"
    }
   ],
   "source": [
    "#viewing and inspecting the first element.\n",
    "flights[0]"
   ]
  },
  {
   "cell_type": "code",
   "execution_count": 9,
   "id": "7260eb32",
   "metadata": {},
   "outputs": [
    {
     "data": {
      "text/plain": [
       "{'A', 'B', 'C', None}"
      ]
     },
     "execution_count": 9,
     "metadata": {},
     "output_type": "execute_result"
    }
   ],
   "source": [
    "{ row['CANCELLATION_CODE'] for row in flights }"
   ]
  },
  {
   "cell_type": "markdown",
   "id": "passing-terrorist",
   "metadata": {},
   "source": [
    "### HW 1: Answer the following questions about the `flights` :"
   ]
  },
  {
   "cell_type": "markdown",
   "id": "welsh-advisory",
   "metadata": {},
   "source": [
    "What datatype is our `flights` object now (a list, dict, etc)?"
   ]
  },
  {
   "cell_type": "markdown",
   "id": "accurate-investment",
   "metadata": {},
   "source": [
    "How many elements are in it?"
   ]
  },
  {
   "cell_type": "markdown",
   "id": "limiting-dinner",
   "metadata": {},
   "source": [
    "How can we look at/inspect the first element?"
   ]
  },
  {
   "cell_type": "markdown",
   "id": "documented-collectible",
   "metadata": {},
   "source": [
    "### HW 2: Create dictionaries from our lookup tables, making the `Code` the key and the `Description` the value"
   ]
  },
  {
   "cell_type": "code",
   "execution_count": 10,
   "id": "statistical-equilibrium",
   "metadata": {},
   "outputs": [],
   "source": [
    "cancel_codes_dict= dict(zip(cancel_codes.Code, cancel_codes.Description))\n",
    "\n",
    "# Go ahead and create more dictionaries for airlines, airports and carriers where\n",
    "# for each the key will be the `Code` and the value will be the `Description`\n",
    "\n",
    "airlines_dict = dict(zip(airlines.Code, airlines.Description))\n",
    "\n",
    "airports_dict = dict(zip(airports.Code, airports.Description))\n",
    "\n",
    "carriers_dict = dict(zip(carriers.Code, carriers.Description))\n",
    "# When you're done there should be four dicts (cancel_codes_dict, airlines_dict, airports_dict, carriers_dict)"
   ]
  },
  {
   "cell_type": "markdown",
   "id": "closed-station",
   "metadata": {},
   "source": [
    "### HW 3: Add in our dictionary mappings to our `flights` data\n",
    "Using our mappings, please create the following new keys in each 'row' of flights with the appropriate value:\n",
    " - AIRLINE_NAME\n",
    " - ORIGIN_AIRPORT_NAME\n",
    " - CARRIER_NAME\n",
    " - CANCELLATION_REASON"
   ]
  },
  {
   "cell_type": "code",
   "execution_count": 11,
   "id": "a62913fd",
   "metadata": {},
   "outputs": [
    {
     "data": {
      "text/plain": [
       "{'A': 'Carrier', 'B': 'Weather', 'C': 'National Air System', 'D': 'Security'}"
      ]
     },
     "execution_count": 11,
     "metadata": {},
     "output_type": "execute_result"
    }
   ],
   "source": [
    "cancel_codes_dict"
   ]
  },
  {
   "cell_type": "code",
   "execution_count": 12,
   "id": "856edae1",
   "metadata": {},
   "outputs": [],
   "source": [
    "for row_dict in flights:\n",
    "    row_dict['CARRIER_NAME'] = carriers_dict.get(row_dict['UNIQUE_CARRIER'])\n",
    "    row_dict['AIRLINE_NAME'] = airlines_dict.get(row_dict['AIRLINE_ID'])\n",
    "    row_dict['ORIGIN_AIRPORT_NAME'] = airports_dict.get(row_dict['ORIGIN_AIRPORT_ID'])\n",
    "    row_dict['CANCELLATION_REASON'] = cancel_codes_dict.get(row_dict['CANCELLATION_CODE'], 'No input')\n",
    "    \n",
    "   "
   ]
  },
  {
   "cell_type": "code",
   "execution_count": 13,
   "id": "baa2226e",
   "metadata": {
    "scrolled": true
   },
   "outputs": [],
   "source": [
    "#not right approch.\n",
    "#for row_dict in flights:\n",
    "    #if row_dict['CANCELLATION_CODE'] == 'None':\n",
    "        #(row_dict['CANCELLATION_CODE'])\n",
    "    #else:\n",
    "        #cancellation_id = row_dict['CANCELLATION_CODE']\n",
    "        #cancellation_nm = cancel_codes_dict[cancellation_id]\n",
    "        #row_dict['CANCELLATION_REASON'] = cancel_codes_dict.get(row_dict['CANCELLATION_CODE'])"
   ]
  },
  {
   "cell_type": "code",
   "execution_count": 14,
   "id": "8ab4473e",
   "metadata": {},
   "outputs": [
    {
     "data": {
      "text/plain": [
       "{'DAY_OF_MONTH': 1,\n",
       " 'DAY_OF_WEEK': 3,\n",
       " 'FL_DATE': '2017-02-01',\n",
       " 'UNIQUE_CARRIER': 'B6',\n",
       " 'AIRLINE_ID': 20409,\n",
       " 'FL_NUM': 33,\n",
       " 'ORIGIN_AIRPORT_ID': 10785,\n",
       " 'ORIGIN_CITY_NAME': 'Burlington, VT',\n",
       " 'ORIGIN_STATE_NM': 'Vermont',\n",
       " 'DEST_AIRPORT_ID': 12478,\n",
       " 'DEST_CITY_NAME': 'New York, NY',\n",
       " 'DEST_STATE_NM': 'New York',\n",
       " 'DEP_TIME': 1857.0,\n",
       " 'DEP_DELAY': -10.0,\n",
       " 'TAXI_OUT': 16.0,\n",
       " 'WHEELS_OFF': 1913.0,\n",
       " 'WHEELS_ON': 2019.0,\n",
       " 'TAXI_IN': 10.0,\n",
       " 'ARR_TIME': 2029.0,\n",
       " 'ARR_DELAY': -8.0,\n",
       " 'CANCELLED': 0,\n",
       " 'CANCELLATION_CODE': None,\n",
       " 'DIVERTED': 0,\n",
       " 'ACTUAL_ELAPSED_TIME': 92.0,\n",
       " 'FLIGHTS': 1,\n",
       " 'DISTANCE': 266,\n",
       " 'CARRIER_DELAY': nan,\n",
       " 'WEATHER_DELAY': nan,\n",
       " 'NAS_DELAY': nan,\n",
       " 'SECURITY_DELAY': nan,\n",
       " 'LATE_AIRCRAFT_DELAY': nan,\n",
       " 'Unnamed: 31': None,\n",
       " 'CARRIER_NAME': 'JetBlue Airways',\n",
       " 'AIRLINE_NAME': 'JetBlue Airways: B6',\n",
       " 'ORIGIN_AIRPORT_NAME': 'Burlington, VT: Burlington International',\n",
       " 'CANCELLATION_REASON': 'No input'}"
      ]
     },
     "execution_count": 14,
     "metadata": {},
     "output_type": "execute_result"
    }
   ],
   "source": [
    "flights[0]"
   ]
  },
  {
   "cell_type": "markdown",
   "id": "078412bd",
   "metadata": {},
   "source": [
    "# Homework 2"
   ]
  },
  {
   "cell_type": "code",
   "execution_count": 15,
   "id": "e281bc2e",
   "metadata": {},
   "outputs": [],
   "source": [
    "#What are the unique airlines in the list of flights?\n",
    "unique_airline = { row['AIRLINE_NAME'] for row in flights}"
   ]
  },
  {
   "cell_type": "code",
   "execution_count": 16,
   "id": "2c62feff",
   "metadata": {},
   "outputs": [
    {
     "data": {
      "text/plain": [
       "{'Alaska Airlines Inc.: AS',\n",
       " 'American Airlines Inc.: AA',\n",
       " 'Delta Air Lines Inc.: DL',\n",
       " 'ExpressJet Airlines Inc.: EV',\n",
       " 'Frontier Airlines Inc.: F9',\n",
       " 'Hawaiian Airlines Inc.: HA',\n",
       " 'JetBlue Airways: B6',\n",
       " 'SkyWest Airlines Inc.: OO',\n",
       " 'Southwest Airlines Co.: WN',\n",
       " 'Spirit Air Lines: NK',\n",
       " 'United Air Lines Inc.: UA',\n",
       " 'Virgin America: VX'}"
      ]
     },
     "execution_count": 16,
     "metadata": {},
     "output_type": "execute_result"
    }
   ],
   "source": [
    "unique_airline"
   ]
  },
  {
   "cell_type": "code",
   "execution_count": 17,
   "id": "9b47b3a4",
   "metadata": {},
   "outputs": [],
   "source": [
    "x = { row['DEP_DELAY'] for row in flights}"
   ]
  },
  {
   "cell_type": "code",
   "execution_count": 18,
   "id": "fc700711",
   "metadata": {},
   "outputs": [],
   "source": [
    "long_delay = [ row for row in flights if row['DEP_DELAY'] > 1000]"
   ]
  },
  {
   "cell_type": "code",
   "execution_count": 19,
   "id": "c433dff9",
   "metadata": {},
   "outputs": [
    {
     "data": {
      "text/plain": [
       "55"
      ]
     },
     "execution_count": 19,
     "metadata": {},
     "output_type": "execute_result"
    }
   ],
   "source": [
    "len(long_delay)"
   ]
  },
  {
   "cell_type": "code",
   "execution_count": 20,
   "id": "dcc0a1ef",
   "metadata": {},
   "outputs": [],
   "source": [
    "long_delay_pick = [ row for row in flights if row['DEP_DELAY'] > 1400]"
   ]
  },
  {
   "cell_type": "code",
   "execution_count": 21,
   "id": "e3a24d97",
   "metadata": {},
   "outputs": [
    {
     "data": {
      "text/plain": [
       "6"
      ]
     },
     "execution_count": 21,
     "metadata": {},
     "output_type": "execute_result"
    }
   ],
   "source": [
    "len(long_delay_pick)"
   ]
  },
  {
   "cell_type": "code",
   "execution_count": 22,
   "id": "7abd86b8",
   "metadata": {},
   "outputs": [
    {
     "data": {
      "text/plain": [
       "[{'DAY_OF_MONTH': 7,\n",
       "  'DAY_OF_WEEK': 2,\n",
       "  'FL_DATE': '2017-02-07',\n",
       "  'UNIQUE_CARRIER': 'AA',\n",
       "  'AIRLINE_ID': 19805,\n",
       "  'FL_NUM': 2195,\n",
       "  'ORIGIN_AIRPORT_ID': 12441,\n",
       "  'ORIGIN_CITY_NAME': 'Jackson, WY',\n",
       "  'ORIGIN_STATE_NM': 'Wyoming',\n",
       "  'DEST_AIRPORT_ID': 11298,\n",
       "  'DEST_CITY_NAME': 'Dallas/Fort Worth, TX',\n",
       "  'DEST_STATE_NM': 'Texas',\n",
       "  'DEP_TIME': 1242.0,\n",
       "  'DEP_DELAY': 1410.0,\n",
       "  'TAXI_OUT': 16.0,\n",
       "  'WHEELS_OFF': 1258.0,\n",
       "  'WHEELS_ON': 1552.0,\n",
       "  'TAXI_IN': 6.0,\n",
       "  'ARR_TIME': 1558.0,\n",
       "  'ARR_DELAY': 1382.0,\n",
       "  'CANCELLED': 0,\n",
       "  'CANCELLATION_CODE': None,\n",
       "  'DIVERTED': 0,\n",
       "  'ACTUAL_ELAPSED_TIME': 136.0,\n",
       "  'FLIGHTS': 1,\n",
       "  'DISTANCE': 1047,\n",
       "  'CARRIER_DELAY': 76.0,\n",
       "  'WEATHER_DELAY': 0.0,\n",
       "  'NAS_DELAY': 0.0,\n",
       "  'SECURITY_DELAY': 0.0,\n",
       "  'LATE_AIRCRAFT_DELAY': 1306.0,\n",
       "  'Unnamed: 31': None,\n",
       "  'CARRIER_NAME': 'American Airlines Inc.',\n",
       "  'AIRLINE_NAME': 'American Airlines Inc.: AA',\n",
       "  'ORIGIN_AIRPORT_NAME': 'Jackson, WY: Jackson Hole',\n",
       "  'CANCELLATION_REASON': 'No input'},\n",
       " {'DAY_OF_MONTH': 10,\n",
       "  'DAY_OF_WEEK': 5,\n",
       "  'FL_DATE': '2017-02-10',\n",
       "  'UNIQUE_CARRIER': 'OO',\n",
       "  'AIRLINE_ID': 20304,\n",
       "  'FL_NUM': 5777,\n",
       "  'ORIGIN_AIRPORT_ID': 13486,\n",
       "  'ORIGIN_CITY_NAME': 'Missoula, MT',\n",
       "  'ORIGIN_STATE_NM': 'Montana',\n",
       "  'DEST_AIRPORT_ID': 11292,\n",
       "  'DEST_CITY_NAME': 'Denver, CO',\n",
       "  'DEST_STATE_NM': 'Colorado',\n",
       "  'DEP_TIME': 1430.0,\n",
       "  'DEP_DELAY': 1410.0,\n",
       "  'TAXI_OUT': 10.0,\n",
       "  'WHEELS_OFF': 1440.0,\n",
       "  'WHEELS_ON': 1614.0,\n",
       "  'TAXI_IN': 8.0,\n",
       "  'ARR_TIME': 1622.0,\n",
       "  'ARR_DELAY': 1408.0,\n",
       "  'CANCELLED': 0,\n",
       "  'CANCELLATION_CODE': None,\n",
       "  'DIVERTED': 0,\n",
       "  'ACTUAL_ELAPSED_TIME': 112.0,\n",
       "  'FLIGHTS': 1,\n",
       "  'DISTANCE': 679,\n",
       "  'CARRIER_DELAY': 1408.0,\n",
       "  'WEATHER_DELAY': 0.0,\n",
       "  'NAS_DELAY': 0.0,\n",
       "  'SECURITY_DELAY': 0.0,\n",
       "  'LATE_AIRCRAFT_DELAY': 0.0,\n",
       "  'Unnamed: 31': None,\n",
       "  'CARRIER_NAME': 'SkyWest Airlines Inc.',\n",
       "  'AIRLINE_NAME': 'SkyWest Airlines Inc.: OO',\n",
       "  'ORIGIN_AIRPORT_NAME': 'Missoula, MT: Missoula International',\n",
       "  'CANCELLATION_REASON': 'No input'},\n",
       " {'DAY_OF_MONTH': 21,\n",
       "  'DAY_OF_WEEK': 2,\n",
       "  'FL_DATE': '2017-02-21',\n",
       "  'UNIQUE_CARRIER': 'AA',\n",
       "  'AIRLINE_ID': 19805,\n",
       "  'FL_NUM': 1163,\n",
       "  'ORIGIN_AIRPORT_ID': 11503,\n",
       "  'ORIGIN_CITY_NAME': 'Eagle, CO',\n",
       "  'ORIGIN_STATE_NM': 'Colorado',\n",
       "  'DEST_AIRPORT_ID': 12478,\n",
       "  'DEST_CITY_NAME': 'New York, NY',\n",
       "  'DEST_STATE_NM': 'New York',\n",
       "  'DEP_TIME': 829.0,\n",
       "  'DEP_DELAY': 1409.0,\n",
       "  'TAXI_OUT': 10.0,\n",
       "  'WHEELS_OFF': 839.0,\n",
       "  'WHEELS_ON': 1357.0,\n",
       "  'TAXI_IN': 10.0,\n",
       "  'ARR_TIME': 1407.0,\n",
       "  'ARR_DELAY': 1369.0,\n",
       "  'CANCELLED': 0,\n",
       "  'CANCELLATION_CODE': None,\n",
       "  'DIVERTED': 0,\n",
       "  'ACTUAL_ELAPSED_TIME': 218.0,\n",
       "  'FLIGHTS': 1,\n",
       "  'DISTANCE': 1746,\n",
       "  'CARRIER_DELAY': 694.0,\n",
       "  'WEATHER_DELAY': 0.0,\n",
       "  'NAS_DELAY': 0.0,\n",
       "  'SECURITY_DELAY': 0.0,\n",
       "  'LATE_AIRCRAFT_DELAY': 675.0,\n",
       "  'Unnamed: 31': None,\n",
       "  'CARRIER_NAME': 'American Airlines Inc.',\n",
       "  'AIRLINE_NAME': 'American Airlines Inc.: AA',\n",
       "  'ORIGIN_AIRPORT_NAME': 'Eagle, CO: Eagle County Regional',\n",
       "  'CANCELLATION_REASON': 'No input'},\n",
       " {'DAY_OF_MONTH': 22,\n",
       "  'DAY_OF_WEEK': 3,\n",
       "  'FL_DATE': '2017-02-22',\n",
       "  'UNIQUE_CARRIER': 'AA',\n",
       "  'AIRLINE_ID': 19805,\n",
       "  'FL_NUM': 150,\n",
       "  'ORIGIN_AIRPORT_ID': 14771,\n",
       "  'ORIGIN_CITY_NAME': 'San Francisco, CA',\n",
       "  'ORIGIN_STATE_NM': 'California',\n",
       "  'DEST_AIRPORT_ID': 13930,\n",
       "  'DEST_CITY_NAME': 'Chicago, IL',\n",
       "  'DEST_STATE_NM': 'Illinois',\n",
       "  'DEP_TIME': 800.0,\n",
       "  'DEP_DELAY': 1440.0,\n",
       "  'TAXI_OUT': 33.0,\n",
       "  'WHEELS_OFF': 833.0,\n",
       "  'WHEELS_ON': 1352.0,\n",
       "  'TAXI_IN': 21.0,\n",
       "  'ARR_TIME': 1413.0,\n",
       "  'ARR_DELAY': 1442.0,\n",
       "  'CANCELLED': 0,\n",
       "  'CANCELLATION_CODE': None,\n",
       "  'DIVERTED': 0,\n",
       "  'ACTUAL_ELAPSED_TIME': 253.0,\n",
       "  'FLIGHTS': 1,\n",
       "  'DISTANCE': 1846,\n",
       "  'CARRIER_DELAY': 1440.0,\n",
       "  'WEATHER_DELAY': 0.0,\n",
       "  'NAS_DELAY': 2.0,\n",
       "  'SECURITY_DELAY': 0.0,\n",
       "  'LATE_AIRCRAFT_DELAY': 0.0,\n",
       "  'Unnamed: 31': None,\n",
       "  'CARRIER_NAME': 'American Airlines Inc.',\n",
       "  'AIRLINE_NAME': 'American Airlines Inc.: AA',\n",
       "  'ORIGIN_AIRPORT_NAME': 'San Francisco, CA: San Francisco International',\n",
       "  'CANCELLATION_REASON': 'No input'},\n",
       " {'DAY_OF_MONTH': 25,\n",
       "  'DAY_OF_WEEK': 6,\n",
       "  'FL_DATE': '2017-02-25',\n",
       "  'UNIQUE_CARRIER': 'AA',\n",
       "  'AIRLINE_ID': 19805,\n",
       "  'FL_NUM': 230,\n",
       "  'ORIGIN_AIRPORT_ID': 12758,\n",
       "  'ORIGIN_CITY_NAME': 'Kona, HI',\n",
       "  'ORIGIN_STATE_NM': 'Hawaii',\n",
       "  'DEST_AIRPORT_ID': 11298,\n",
       "  'DEST_CITY_NAME': 'Dallas/Fort Worth, TX',\n",
       "  'DEST_STATE_NM': 'Texas',\n",
       "  'DEP_TIME': 1850.0,\n",
       "  'DEP_DELAY': 1455.0,\n",
       "  'TAXI_OUT': 14.0,\n",
       "  'WHEELS_OFF': 1904.0,\n",
       "  'WHEELS_ON': 510.0,\n",
       "  'TAXI_IN': 7.0,\n",
       "  'ARR_TIME': 517.0,\n",
       "  'ARR_DELAY': 1412.0,\n",
       "  'CANCELLED': 0,\n",
       "  'CANCELLATION_CODE': None,\n",
       "  'DIVERTED': 0,\n",
       "  'ACTUAL_ELAPSED_TIME': 387.0,\n",
       "  'FLIGHTS': 1,\n",
       "  'DISTANCE': 3724,\n",
       "  'CARRIER_DELAY': 1403.0,\n",
       "  'WEATHER_DELAY': 0.0,\n",
       "  'NAS_DELAY': 0.0,\n",
       "  'SECURITY_DELAY': 0.0,\n",
       "  'LATE_AIRCRAFT_DELAY': 9.0,\n",
       "  'Unnamed: 31': None,\n",
       "  'CARRIER_NAME': 'American Airlines Inc.',\n",
       "  'AIRLINE_NAME': 'American Airlines Inc.: AA',\n",
       "  'ORIGIN_AIRPORT_NAME': 'Kona, HI: Kona International Airport at Keahole',\n",
       "  'CANCELLATION_REASON': 'No input'},\n",
       " {'DAY_OF_MONTH': 25,\n",
       "  'DAY_OF_WEEK': 6,\n",
       "  'FL_DATE': '2017-02-25',\n",
       "  'UNIQUE_CARRIER': 'EV',\n",
       "  'AIRLINE_ID': 20366,\n",
       "  'FL_NUM': 5160,\n",
       "  'ORIGIN_AIRPORT_ID': 10135,\n",
       "  'ORIGIN_CITY_NAME': 'Allentown/Bethlehem/Easton, PA',\n",
       "  'ORIGIN_STATE_NM': 'Pennsylvania',\n",
       "  'DEST_AIRPORT_ID': 11433,\n",
       "  'DEST_CITY_NAME': 'Detroit, MI',\n",
       "  'DEST_STATE_NM': 'Michigan',\n",
       "  'DEP_TIME': 2033.0,\n",
       "  'DEP_DELAY': 1668.0,\n",
       "  'TAXI_OUT': 19.0,\n",
       "  'WHEELS_OFF': 2052.0,\n",
       "  'WHEELS_ON': nan,\n",
       "  'TAXI_IN': nan,\n",
       "  'ARR_TIME': nan,\n",
       "  'ARR_DELAY': nan,\n",
       "  'CANCELLED': 0,\n",
       "  'CANCELLATION_CODE': None,\n",
       "  'DIVERTED': 1,\n",
       "  'ACTUAL_ELAPSED_TIME': nan,\n",
       "  'FLIGHTS': 1,\n",
       "  'DISTANCE': 425,\n",
       "  'CARRIER_DELAY': nan,\n",
       "  'WEATHER_DELAY': nan,\n",
       "  'NAS_DELAY': nan,\n",
       "  'SECURITY_DELAY': nan,\n",
       "  'LATE_AIRCRAFT_DELAY': nan,\n",
       "  'Unnamed: 31': None,\n",
       "  'CARRIER_NAME': 'ExpressJet Airlines Inc.',\n",
       "  'AIRLINE_NAME': 'ExpressJet Airlines Inc.: EV',\n",
       "  'ORIGIN_AIRPORT_NAME': 'Allentown/Bethlehem/Easton, PA: Lehigh Valley International',\n",
       "  'CANCELLATION_REASON': 'No input'}]"
      ]
     },
     "execution_count": 22,
     "metadata": {},
     "output_type": "execute_result"
    }
   ],
   "source": [
    "long_delay_pick"
   ]
  },
  {
   "cell_type": "code",
   "execution_count": 23,
   "id": "c6f2f752",
   "metadata": {},
   "outputs": [
    {
     "data": {
      "text/plain": [
       "[5, 1, 2, 6, 5, 8]"
      ]
     },
     "execution_count": 23,
     "metadata": {},
     "output_type": "execute_result"
    }
   ],
   "source": [
    "[5,1,2,6,5,8]"
   ]
  },
  {
   "cell_type": "code",
   "execution_count": 24,
   "id": "69c2b4ec",
   "metadata": {},
   "outputs": [
    {
     "name": "stdout",
     "output_type": "stream",
     "text": [
      "5\n",
      "1\n",
      "2\n",
      "6\n",
      "5\n",
      "8\n"
     ]
    }
   ],
   "source": [
    "for i in [5,1,2,6,5,8]:\n",
    "    print(i)"
   ]
  },
  {
   "cell_type": "code",
   "execution_count": 25,
   "id": "70d25f87",
   "metadata": {},
   "outputs": [],
   "source": [
    "#Which flight had the longest departure delay?\n",
    "#i iteration should relate to all lines \n",
    "longest_delay=0\n",
    "max_idx=None\n",
    "\n",
    "for i in long_delay_pick:\n",
    "    #version 1: two lookups\n",
    "    if longest_delay < i['DEP_DELAY']:\n",
    "        longest_delay = i['DEP_DELAY']\n",
    "        max_idx = i\n",
    "        \n",
    "    #version 2\n",
    "    \n",
    "    \n",
    "    #version 3\n",
    "        \n",
    "    #print('Maximum value:' ,longest_delay, 'at index:', max_idx)"
   ]
  },
  {
   "cell_type": "code",
   "execution_count": 26,
   "id": "ef2d6639",
   "metadata": {},
   "outputs": [
    {
     "data": {
      "text/plain": [
       "{'DAY_OF_MONTH': 25,\n",
       " 'DAY_OF_WEEK': 6,\n",
       " 'FL_DATE': '2017-02-25',\n",
       " 'UNIQUE_CARRIER': 'EV',\n",
       " 'AIRLINE_ID': 20366,\n",
       " 'FL_NUM': 5160,\n",
       " 'ORIGIN_AIRPORT_ID': 10135,\n",
       " 'ORIGIN_CITY_NAME': 'Allentown/Bethlehem/Easton, PA',\n",
       " 'ORIGIN_STATE_NM': 'Pennsylvania',\n",
       " 'DEST_AIRPORT_ID': 11433,\n",
       " 'DEST_CITY_NAME': 'Detroit, MI',\n",
       " 'DEST_STATE_NM': 'Michigan',\n",
       " 'DEP_TIME': 2033.0,\n",
       " 'DEP_DELAY': 1668.0,\n",
       " 'TAXI_OUT': 19.0,\n",
       " 'WHEELS_OFF': 2052.0,\n",
       " 'WHEELS_ON': nan,\n",
       " 'TAXI_IN': nan,\n",
       " 'ARR_TIME': nan,\n",
       " 'ARR_DELAY': nan,\n",
       " 'CANCELLED': 0,\n",
       " 'CANCELLATION_CODE': None,\n",
       " 'DIVERTED': 1,\n",
       " 'ACTUAL_ELAPSED_TIME': nan,\n",
       " 'FLIGHTS': 1,\n",
       " 'DISTANCE': 425,\n",
       " 'CARRIER_DELAY': nan,\n",
       " 'WEATHER_DELAY': nan,\n",
       " 'NAS_DELAY': nan,\n",
       " 'SECURITY_DELAY': nan,\n",
       " 'LATE_AIRCRAFT_DELAY': nan,\n",
       " 'Unnamed: 31': None,\n",
       " 'CARRIER_NAME': 'ExpressJet Airlines Inc.',\n",
       " 'AIRLINE_NAME': 'ExpressJet Airlines Inc.: EV',\n",
       " 'ORIGIN_AIRPORT_NAME': 'Allentown/Bethlehem/Easton, PA: Lehigh Valley International',\n",
       " 'CANCELLATION_REASON': 'No input'}"
      ]
     },
     "execution_count": 26,
     "metadata": {},
     "output_type": "execute_result"
    }
   ],
   "source": [
    "max_idx"
   ]
  },
  {
   "cell_type": "code",
   "execution_count": 27,
   "id": "13b10dd4",
   "metadata": {},
   "outputs": [],
   "source": [
    "#find the min\n",
    "temps = [\n",
    "    {'temp': 80, 'name': 'slc'},\n",
    "    {'temp': 75, 'name': 'omaha'}, \n",
    "    {'temp': 90, 'name': 'miami'},\n",
    "]"
   ]
  },
  {
   "cell_type": "code",
   "execution_count": 28,
   "id": "9a993157",
   "metadata": {},
   "outputs": [
    {
     "data": {
      "text/plain": [
       "{'DAY_OF_MONTH': 25,\n",
       " 'DAY_OF_WEEK': 6,\n",
       " 'FL_DATE': '2017-02-25',\n",
       " 'UNIQUE_CARRIER': 'EV',\n",
       " 'AIRLINE_ID': 20366,\n",
       " 'FL_NUM': 5160,\n",
       " 'ORIGIN_AIRPORT_ID': 10135,\n",
       " 'ORIGIN_CITY_NAME': 'Allentown/Bethlehem/Easton, PA',\n",
       " 'ORIGIN_STATE_NM': 'Pennsylvania',\n",
       " 'DEST_AIRPORT_ID': 11433,\n",
       " 'DEST_CITY_NAME': 'Detroit, MI',\n",
       " 'DEST_STATE_NM': 'Michigan',\n",
       " 'DEP_TIME': 2033.0,\n",
       " 'DEP_DELAY': 1668.0,\n",
       " 'TAXI_OUT': 19.0,\n",
       " 'WHEELS_OFF': 2052.0,\n",
       " 'WHEELS_ON': nan,\n",
       " 'TAXI_IN': nan,\n",
       " 'ARR_TIME': nan,\n",
       " 'ARR_DELAY': nan,\n",
       " 'CANCELLED': 0,\n",
       " 'CANCELLATION_CODE': None,\n",
       " 'DIVERTED': 1,\n",
       " 'ACTUAL_ELAPSED_TIME': nan,\n",
       " 'FLIGHTS': 1,\n",
       " 'DISTANCE': 425,\n",
       " 'CARRIER_DELAY': nan,\n",
       " 'WEATHER_DELAY': nan,\n",
       " 'NAS_DELAY': nan,\n",
       " 'SECURITY_DELAY': nan,\n",
       " 'LATE_AIRCRAFT_DELAY': nan,\n",
       " 'Unnamed: 31': None,\n",
       " 'CARRIER_NAME': 'ExpressJet Airlines Inc.',\n",
       " 'AIRLINE_NAME': 'ExpressJet Airlines Inc.: EV',\n",
       " 'ORIGIN_AIRPORT_NAME': 'Allentown/Bethlehem/Easton, PA: Lehigh Valley International',\n",
       " 'CANCELLATION_REASON': 'No input'}"
      ]
     },
     "execution_count": 28,
     "metadata": {},
     "output_type": "execute_result"
    }
   ],
   "source": [
    "max(flights, key=lambda d: d['DEP_DELAY'])"
   ]
  },
  {
   "cell_type": "markdown",
   "id": "00b78664",
   "metadata": {},
   "source": [
    "# Homework 3"
   ]
  },
  {
   "cell_type": "markdown",
   "id": "bf4cee07",
   "metadata": {},
   "source": [
    "# H3 Q1"
   ]
  },
  {
   "cell_type": "code",
   "execution_count": 29,
   "id": "d18ccd4e",
   "metadata": {},
   "outputs": [],
   "source": [
    "from collections import defaultdict, Counter\n",
    "# difference between a dict and defaultdict is that defaultdict overrides\n",
    "# .__missing__() and it adds .default_factory. Writable instance var that \n",
    "# needs to be provided at the time of instantiation\n",
    "# https://realpython.com/python-defaultdict/#using-the-python-defaultdict-type"
   ]
  },
  {
   "cell_type": "code",
   "execution_count": 30,
   "id": "f4dd76a5",
   "metadata": {},
   "outputs": [
    {
     "data": {
      "text/plain": [
       "{'Carrier', 'National Air System', 'No input', 'Weather'}"
      ]
     },
     "execution_count": 30,
     "metadata": {},
     "output_type": "execute_result"
    }
   ],
   "source": [
    "{ row['CANCELLATION_REASON'] for row in flights }"
   ]
  },
  {
   "cell_type": "code",
   "execution_count": 31,
   "id": "c0ce6403",
   "metadata": {},
   "outputs": [],
   "source": [
    "#Which carrier had the most time delay b/c of weather?\n",
    "weather = [ row for row in flights if row['CANCELLATION_REASON'] == 'Weather']"
   ]
  },
  {
   "cell_type": "code",
   "execution_count": 32,
   "id": "bfc7d3f4",
   "metadata": {},
   "outputs": [
    {
     "data": {
      "text/plain": [
       "4701"
      ]
     },
     "execution_count": 32,
     "metadata": {},
     "output_type": "execute_result"
    }
   ],
   "source": [
    "len(weather)"
   ]
  },
  {
   "cell_type": "code",
   "execution_count": 33,
   "id": "967ad230",
   "metadata": {},
   "outputs": [],
   "source": [
    "weather_delay_1 = [ row for row in flights if row['WEATHER_DELAY'] > 0]"
   ]
  },
  {
   "cell_type": "code",
   "execution_count": 34,
   "id": "dd30466d",
   "metadata": {},
   "outputs": [
    {
     "data": {
      "text/plain": [
       "3330"
      ]
     },
     "execution_count": 34,
     "metadata": {},
     "output_type": "execute_result"
    }
   ],
   "source": [
    "len(weather_delay_1)"
   ]
  },
  {
   "cell_type": "code",
   "execution_count": 35,
   "id": "97c8ddf8",
   "metadata": {
    "scrolled": true
   },
   "outputs": [
    {
     "data": {
      "text/plain": [
       "{'DAY_OF_MONTH': 1,\n",
       " 'DAY_OF_WEEK': 3,\n",
       " 'FL_DATE': '2017-02-01',\n",
       " 'UNIQUE_CARRIER': 'F9',\n",
       " 'AIRLINE_ID': 20436,\n",
       " 'FL_NUM': 552,\n",
       " 'ORIGIN_AIRPORT_ID': 14679,\n",
       " 'ORIGIN_CITY_NAME': 'San Diego, CA',\n",
       " 'ORIGIN_STATE_NM': 'California',\n",
       " 'DEST_AIRPORT_ID': 11292,\n",
       " 'DEST_CITY_NAME': 'Denver, CO',\n",
       " 'DEST_STATE_NM': 'Colorado',\n",
       " 'DEP_TIME': 1336.0,\n",
       " 'DEP_DELAY': 436.0,\n",
       " 'TAXI_OUT': 16.0,\n",
       " 'WHEELS_OFF': 1352.0,\n",
       " 'WHEELS_ON': 1649.0,\n",
       " 'TAXI_IN': 26.0,\n",
       " 'ARR_TIME': 1715.0,\n",
       " 'ARR_DELAY': 441.0,\n",
       " 'CANCELLED': 0,\n",
       " 'CANCELLATION_CODE': None,\n",
       " 'DIVERTED': 0,\n",
       " 'ACTUAL_ELAPSED_TIME': 159.0,\n",
       " 'FLIGHTS': 1,\n",
       " 'DISTANCE': 853,\n",
       " 'CARRIER_DELAY': 0.0,\n",
       " 'WEATHER_DELAY': 436.0,\n",
       " 'NAS_DELAY': 5.0,\n",
       " 'SECURITY_DELAY': 0.0,\n",
       " 'LATE_AIRCRAFT_DELAY': 0.0,\n",
       " 'Unnamed: 31': None,\n",
       " 'CARRIER_NAME': 'Frontier Airlines Inc.',\n",
       " 'AIRLINE_NAME': 'Frontier Airlines Inc.: F9',\n",
       " 'ORIGIN_AIRPORT_NAME': 'San Diego, CA: San Diego International',\n",
       " 'CANCELLATION_REASON': 'No input'}"
      ]
     },
     "execution_count": 35,
     "metadata": {},
     "output_type": "execute_result"
    }
   ],
   "source": [
    "weather_delay_1[0]"
   ]
  },
  {
   "cell_type": "code",
   "execution_count": 36,
   "id": "c6db1733",
   "metadata": {},
   "outputs": [],
   "source": [
    "weather_delay=0\n",
    "max_idx=None\n",
    "\n",
    "weather_delay_def_dict = defaultdict(list)\n",
    "for i in weather_delay_1:\n",
    "    if weather_delay < i['WEATHER_DELAY']:\n",
    "        weather_delay = i['WEATHER_DELAY']\n",
    "        max_idx = i"
   ]
  },
  {
   "cell_type": "code",
   "execution_count": 37,
   "id": "eb27b79d",
   "metadata": {},
   "outputs": [
    {
     "data": {
      "text/plain": [
       "{'DAY_OF_MONTH': 11,\n",
       " 'DAY_OF_WEEK': 6,\n",
       " 'FL_DATE': '2017-02-11',\n",
       " 'UNIQUE_CARRIER': 'AA',\n",
       " 'AIRLINE_ID': 19805,\n",
       " 'FL_NUM': 2400,\n",
       " 'ORIGIN_AIRPORT_ID': 11298,\n",
       " 'ORIGIN_CITY_NAME': 'Dallas/Fort Worth, TX',\n",
       " 'ORIGIN_STATE_NM': 'Texas',\n",
       " 'DEST_AIRPORT_ID': 11503,\n",
       " 'DEST_CITY_NAME': 'Eagle, CO',\n",
       " 'DEST_STATE_NM': 'Colorado',\n",
       " 'DEP_TIME': 1215.0,\n",
       " 'DEP_DELAY': 1175.0,\n",
       " 'TAXI_OUT': 26.0,\n",
       " 'WHEELS_OFF': 1241.0,\n",
       " 'WHEELS_ON': 1358.0,\n",
       " 'TAXI_IN': 5.0,\n",
       " 'ARR_TIME': 1403.0,\n",
       " 'ARR_DELAY': 1203.0,\n",
       " 'CANCELLED': 0,\n",
       " 'CANCELLATION_CODE': None,\n",
       " 'DIVERTED': 0,\n",
       " 'ACTUAL_ELAPSED_TIME': 168.0,\n",
       " 'FLIGHTS': 1,\n",
       " 'DISTANCE': 721,\n",
       " 'CARRIER_DELAY': 0.0,\n",
       " 'WEATHER_DELAY': 1175.0,\n",
       " 'NAS_DELAY': 28.0,\n",
       " 'SECURITY_DELAY': 0.0,\n",
       " 'LATE_AIRCRAFT_DELAY': 0.0,\n",
       " 'Unnamed: 31': None,\n",
       " 'CARRIER_NAME': 'American Airlines Inc.',\n",
       " 'AIRLINE_NAME': 'American Airlines Inc.: AA',\n",
       " 'ORIGIN_AIRPORT_NAME': 'Dallas/Fort Worth, TX: Dallas/Fort Worth International',\n",
       " 'CANCELLATION_REASON': 'No input'}"
      ]
     },
     "execution_count": 37,
     "metadata": {},
     "output_type": "execute_result"
    }
   ],
   "source": [
    "max_idx"
   ]
  },
  {
   "cell_type": "code",
   "execution_count": 38,
   "id": "1bbc9874",
   "metadata": {},
   "outputs": [
    {
     "data": {
      "text/plain": [
       "'American Airlines Inc.'"
      ]
     },
     "execution_count": 38,
     "metadata": {},
     "output_type": "execute_result"
    }
   ],
   "source": [
    "max_idx['CARRIER_NAME']"
   ]
  },
  {
   "cell_type": "markdown",
   "id": "60512d5d",
   "metadata": {},
   "source": [
    "# H3 Q2"
   ]
  },
  {
   "cell_type": "code",
   "execution_count": 39,
   "id": "971f242e",
   "metadata": {},
   "outputs": [],
   "source": [
    "# what are the top 10 weather delays in descending order?"
   ]
  },
  {
   "cell_type": "code",
   "execution_count": 40,
   "id": "d5d47b9e",
   "metadata": {},
   "outputs": [
    {
     "data": {
      "text/plain": [
       "3330"
      ]
     },
     "execution_count": 40,
     "metadata": {},
     "output_type": "execute_result"
    }
   ],
   "source": [
    "len(weather_delay_1)"
   ]
  },
  {
   "cell_type": "code",
   "execution_count": 41,
   "id": "233e205a",
   "metadata": {},
   "outputs": [],
   "source": [
    "weather_delay_1.sort(key=lambda i: i['WEATHER_DELAY'], reverse=True)"
   ]
  },
  {
   "cell_type": "code",
   "execution_count": 42,
   "id": "980ec6b8",
   "metadata": {},
   "outputs": [
    {
     "data": {
      "text/plain": [
       "[{'DAY_OF_MONTH': 11,\n",
       "  'DAY_OF_WEEK': 6,\n",
       "  'FL_DATE': '2017-02-11',\n",
       "  'UNIQUE_CARRIER': 'AA',\n",
       "  'AIRLINE_ID': 19805,\n",
       "  'FL_NUM': 2400,\n",
       "  'ORIGIN_AIRPORT_ID': 11298,\n",
       "  'ORIGIN_CITY_NAME': 'Dallas/Fort Worth, TX',\n",
       "  'ORIGIN_STATE_NM': 'Texas',\n",
       "  'DEST_AIRPORT_ID': 11503,\n",
       "  'DEST_CITY_NAME': 'Eagle, CO',\n",
       "  'DEST_STATE_NM': 'Colorado',\n",
       "  'DEP_TIME': 1215.0,\n",
       "  'DEP_DELAY': 1175.0,\n",
       "  'TAXI_OUT': 26.0,\n",
       "  'WHEELS_OFF': 1241.0,\n",
       "  'WHEELS_ON': 1358.0,\n",
       "  'TAXI_IN': 5.0,\n",
       "  'ARR_TIME': 1403.0,\n",
       "  'ARR_DELAY': 1203.0,\n",
       "  'CANCELLED': 0,\n",
       "  'CANCELLATION_CODE': None,\n",
       "  'DIVERTED': 0,\n",
       "  'ACTUAL_ELAPSED_TIME': 168.0,\n",
       "  'FLIGHTS': 1,\n",
       "  'DISTANCE': 721,\n",
       "  'CARRIER_DELAY': 0.0,\n",
       "  'WEATHER_DELAY': 1175.0,\n",
       "  'NAS_DELAY': 28.0,\n",
       "  'SECURITY_DELAY': 0.0,\n",
       "  'LATE_AIRCRAFT_DELAY': 0.0,\n",
       "  'Unnamed: 31': None,\n",
       "  'CARRIER_NAME': 'American Airlines Inc.',\n",
       "  'AIRLINE_NAME': 'American Airlines Inc.: AA',\n",
       "  'ORIGIN_AIRPORT_NAME': 'Dallas/Fort Worth, TX: Dallas/Fort Worth International',\n",
       "  'CANCELLATION_REASON': 'No input'},\n",
       " {'DAY_OF_MONTH': 19,\n",
       "  'DAY_OF_WEEK': 7,\n",
       "  'FL_DATE': '2017-02-19',\n",
       "  'UNIQUE_CARRIER': 'UA',\n",
       "  'AIRLINE_ID': 19977,\n",
       "  'FL_NUM': 386,\n",
       "  'ORIGIN_AIRPORT_ID': 12441,\n",
       "  'ORIGIN_CITY_NAME': 'Jackson, WY',\n",
       "  'ORIGIN_STATE_NM': 'Wyoming',\n",
       "  'DEST_AIRPORT_ID': 11292,\n",
       "  'DEST_CITY_NAME': 'Denver, CO',\n",
       "  'DEST_STATE_NM': 'Colorado',\n",
       "  'DEP_TIME': 722.0,\n",
       "  'DEP_DELAY': 1061.0,\n",
       "  'TAXI_OUT': 129.0,\n",
       "  'WHEELS_OFF': 931.0,\n",
       "  'WHEELS_ON': 1023.0,\n",
       "  'TAXI_IN': 5.0,\n",
       "  'ARR_TIME': 1028.0,\n",
       "  'ARR_DELAY': 1161.0,\n",
       "  'CANCELLED': 0,\n",
       "  'CANCELLATION_CODE': None,\n",
       "  'DIVERTED': 0,\n",
       "  'ACTUAL_ELAPSED_TIME': 186.0,\n",
       "  'FLIGHTS': 1,\n",
       "  'DISTANCE': 406,\n",
       "  'CARRIER_DELAY': 0.0,\n",
       "  'WEATHER_DELAY': 1061.0,\n",
       "  'NAS_DELAY': 100.0,\n",
       "  'SECURITY_DELAY': 0.0,\n",
       "  'LATE_AIRCRAFT_DELAY': 0.0,\n",
       "  'Unnamed: 31': None,\n",
       "  'CARRIER_NAME': 'United Air Lines Inc.',\n",
       "  'AIRLINE_NAME': 'United Air Lines Inc.: UA',\n",
       "  'ORIGIN_AIRPORT_NAME': 'Jackson, WY: Jackson Hole',\n",
       "  'CANCELLATION_REASON': 'No input'},\n",
       " {'DAY_OF_MONTH': 6,\n",
       "  'DAY_OF_WEEK': 1,\n",
       "  'FL_DATE': '2017-02-06',\n",
       "  'UNIQUE_CARRIER': 'OO',\n",
       "  'AIRLINE_ID': 20304,\n",
       "  'FL_NUM': 5365,\n",
       "  'ORIGIN_AIRPORT_ID': 11057,\n",
       "  'ORIGIN_CITY_NAME': 'Charlotte, NC',\n",
       "  'ORIGIN_STATE_NM': 'North Carolina',\n",
       "  'DEST_AIRPORT_ID': 13930,\n",
       "  'DEST_CITY_NAME': 'Chicago, IL',\n",
       "  'DEST_STATE_NM': 'Illinois',\n",
       "  'DEP_TIME': 1116.0,\n",
       "  'DEP_DELAY': 1074.0,\n",
       "  'TAXI_OUT': 11.0,\n",
       "  'WHEELS_OFF': 1127.0,\n",
       "  'WHEELS_ON': 1153.0,\n",
       "  'TAXI_IN': 5.0,\n",
       "  'ARR_TIME': 1158.0,\n",
       "  'ARR_DELAY': 1043.0,\n",
       "  'CANCELLED': 0,\n",
       "  'CANCELLATION_CODE': None,\n",
       "  'DIVERTED': 0,\n",
       "  'ACTUAL_ELAPSED_TIME': 102.0,\n",
       "  'FLIGHTS': 1,\n",
       "  'DISTANCE': 599,\n",
       "  'CARRIER_DELAY': 0.0,\n",
       "  'WEATHER_DELAY': 1043.0,\n",
       "  'NAS_DELAY': 0.0,\n",
       "  'SECURITY_DELAY': 0.0,\n",
       "  'LATE_AIRCRAFT_DELAY': 0.0,\n",
       "  'Unnamed: 31': None,\n",
       "  'CARRIER_NAME': 'SkyWest Airlines Inc.',\n",
       "  'AIRLINE_NAME': 'SkyWest Airlines Inc.: OO',\n",
       "  'ORIGIN_AIRPORT_NAME': 'Charlotte, NC: Charlotte Douglas International',\n",
       "  'CANCELLATION_REASON': 'No input'},\n",
       " {'DAY_OF_MONTH': 23,\n",
       "  'DAY_OF_WEEK': 4,\n",
       "  'FL_DATE': '2017-02-23',\n",
       "  'UNIQUE_CARRIER': 'OO',\n",
       "  'AIRLINE_ID': 20304,\n",
       "  'FL_NUM': 3047,\n",
       "  'ORIGIN_AIRPORT_ID': 14633,\n",
       "  'ORIGIN_CITY_NAME': 'Rochester, MN',\n",
       "  'ORIGIN_STATE_NM': 'Minnesota',\n",
       "  'DEST_AIRPORT_ID': 13930,\n",
       "  'DEST_CITY_NAME': 'Chicago, IL',\n",
       "  'DEST_STATE_NM': 'Illinois',\n",
       "  'DEP_TIME': 1251.0,\n",
       "  'DEP_DELAY': 1036.0,\n",
       "  'TAXI_OUT': 69.0,\n",
       "  'WHEELS_OFF': 1400.0,\n",
       "  'WHEELS_ON': 1454.0,\n",
       "  'TAXI_IN': 20.0,\n",
       "  'ARR_TIME': 1514.0,\n",
       "  'ARR_DELAY': 1104.0,\n",
       "  'CANCELLED': 0,\n",
       "  'CANCELLATION_CODE': None,\n",
       "  'DIVERTED': 0,\n",
       "  'ACTUAL_ELAPSED_TIME': 143.0,\n",
       "  'FLIGHTS': 1,\n",
       "  'DISTANCE': 268,\n",
       "  'CARRIER_DELAY': 0.0,\n",
       "  'WEATHER_DELAY': 1015.0,\n",
       "  'NAS_DELAY': 68.0,\n",
       "  'SECURITY_DELAY': 0.0,\n",
       "  'LATE_AIRCRAFT_DELAY': 21.0,\n",
       "  'Unnamed: 31': None,\n",
       "  'CARRIER_NAME': 'SkyWest Airlines Inc.',\n",
       "  'AIRLINE_NAME': 'SkyWest Airlines Inc.: OO',\n",
       "  'ORIGIN_AIRPORT_NAME': 'Rochester, MN: Rochester International',\n",
       "  'CANCELLATION_REASON': 'No input'},\n",
       " {'DAY_OF_MONTH': 7,\n",
       "  'DAY_OF_WEEK': 2,\n",
       "  'FL_DATE': '2017-02-07',\n",
       "  'UNIQUE_CARRIER': 'UA',\n",
       "  'AIRLINE_ID': 19977,\n",
       "  'FL_NUM': 1584,\n",
       "  'ORIGIN_AIRPORT_ID': 11292,\n",
       "  'ORIGIN_CITY_NAME': 'Denver, CO',\n",
       "  'ORIGIN_STATE_NM': 'Colorado',\n",
       "  'DEST_AIRPORT_ID': 12441,\n",
       "  'DEST_CITY_NAME': 'Jackson, WY',\n",
       "  'DEST_STATE_NM': 'Wyoming',\n",
       "  'DEP_TIME': 1322.0,\n",
       "  'DEP_DELAY': 1097.0,\n",
       "  'TAXI_OUT': 26.0,\n",
       "  'WHEELS_OFF': 1348.0,\n",
       "  'WHEELS_ON': 1506.0,\n",
       "  'TAXI_IN': 5.0,\n",
       "  'ARR_TIME': 1511.0,\n",
       "  'ARR_DELAY': 1113.0,\n",
       "  'CANCELLED': 0,\n",
       "  'CANCELLATION_CODE': None,\n",
       "  'DIVERTED': 0,\n",
       "  'ACTUAL_ELAPSED_TIME': 109.0,\n",
       "  'FLIGHTS': 1,\n",
       "  'DISTANCE': 406,\n",
       "  'CARRIER_DELAY': 0.0,\n",
       "  'WEATHER_DELAY': 1008.0,\n",
       "  'NAS_DELAY': 16.0,\n",
       "  'SECURITY_DELAY': 0.0,\n",
       "  'LATE_AIRCRAFT_DELAY': 89.0,\n",
       "  'Unnamed: 31': None,\n",
       "  'CARRIER_NAME': 'United Air Lines Inc.',\n",
       "  'AIRLINE_NAME': 'United Air Lines Inc.: UA',\n",
       "  'ORIGIN_AIRPORT_NAME': 'Denver, CO: Denver International',\n",
       "  'CANCELLATION_REASON': 'No input'},\n",
       " {'DAY_OF_MONTH': 1,\n",
       "  'DAY_OF_WEEK': 3,\n",
       "  'FL_DATE': '2017-02-01',\n",
       "  'UNIQUE_CARRIER': 'OO',\n",
       "  'AIRLINE_ID': 20304,\n",
       "  'FL_NUM': 4663,\n",
       "  'ORIGIN_AIRPORT_ID': 11433,\n",
       "  'ORIGIN_CITY_NAME': 'Detroit, MI',\n",
       "  'ORIGIN_STATE_NM': 'Michigan',\n",
       "  'DEST_AIRPORT_ID': 12945,\n",
       "  'DEST_CITY_NAME': 'Lexington, KY',\n",
       "  'DEST_STATE_NM': 'Kentucky',\n",
       "  'DEP_TIME': 1201.0,\n",
       "  'DEP_DELAY': 960.0,\n",
       "  'TAXI_OUT': 22.0,\n",
       "  'WHEELS_OFF': 1223.0,\n",
       "  'WHEELS_ON': 1315.0,\n",
       "  'TAXI_IN': 6.0,\n",
       "  'ARR_TIME': 1321.0,\n",
       "  'ARR_DELAY': 947.0,\n",
       "  'CANCELLED': 0,\n",
       "  'CANCELLATION_CODE': None,\n",
       "  'DIVERTED': 0,\n",
       "  'ACTUAL_ELAPSED_TIME': 80.0,\n",
       "  'FLIGHTS': 1,\n",
       "  'DISTANCE': 296,\n",
       "  'CARRIER_DELAY': 0.0,\n",
       "  'WEATHER_DELAY': 947.0,\n",
       "  'NAS_DELAY': 0.0,\n",
       "  'SECURITY_DELAY': 0.0,\n",
       "  'LATE_AIRCRAFT_DELAY': 0.0,\n",
       "  'Unnamed: 31': None,\n",
       "  'CARRIER_NAME': 'SkyWest Airlines Inc.',\n",
       "  'AIRLINE_NAME': 'SkyWest Airlines Inc.: OO',\n",
       "  'ORIGIN_AIRPORT_NAME': 'Detroit, MI: Detroit Metro Wayne County',\n",
       "  'CANCELLATION_REASON': 'No input'},\n",
       " {'DAY_OF_MONTH': 7,\n",
       "  'DAY_OF_WEEK': 2,\n",
       "  'FL_DATE': '2017-02-07',\n",
       "  'UNIQUE_CARRIER': 'AA',\n",
       "  'AIRLINE_ID': 19805,\n",
       "  'FL_NUM': 2400,\n",
       "  'ORIGIN_AIRPORT_ID': 11298,\n",
       "  'ORIGIN_CITY_NAME': 'Dallas/Fort Worth, TX',\n",
       "  'ORIGIN_STATE_NM': 'Texas',\n",
       "  'DEST_AIRPORT_ID': 11503,\n",
       "  'DEST_CITY_NAME': 'Eagle, CO',\n",
       "  'DEST_STATE_NM': 'Colorado',\n",
       "  'DEP_TIME': 755.0,\n",
       "  'DEP_DELAY': 915.0,\n",
       "  'TAXI_OUT': 13.0,\n",
       "  'WHEELS_OFF': 808.0,\n",
       "  'WHEELS_ON': 923.0,\n",
       "  'TAXI_IN': 4.0,\n",
       "  'ARR_TIME': 927.0,\n",
       "  'ARR_DELAY': 927.0,\n",
       "  'CANCELLED': 0,\n",
       "  'CANCELLATION_CODE': None,\n",
       "  'DIVERTED': 0,\n",
       "  'ACTUAL_ELAPSED_TIME': 152.0,\n",
       "  'FLIGHTS': 1,\n",
       "  'DISTANCE': 721,\n",
       "  'CARRIER_DELAY': 0.0,\n",
       "  'WEATHER_DELAY': 915.0,\n",
       "  'NAS_DELAY': 12.0,\n",
       "  'SECURITY_DELAY': 0.0,\n",
       "  'LATE_AIRCRAFT_DELAY': 0.0,\n",
       "  'Unnamed: 31': None,\n",
       "  'CARRIER_NAME': 'American Airlines Inc.',\n",
       "  'AIRLINE_NAME': 'American Airlines Inc.: AA',\n",
       "  'ORIGIN_AIRPORT_NAME': 'Dallas/Fort Worth, TX: Dallas/Fort Worth International',\n",
       "  'CANCELLATION_REASON': 'No input'},\n",
       " {'DAY_OF_MONTH': 1,\n",
       "  'DAY_OF_WEEK': 3,\n",
       "  'FL_DATE': '2017-02-01',\n",
       "  'UNIQUE_CARRIER': 'OO',\n",
       "  'AIRLINE_ID': 20304,\n",
       "  'FL_NUM': 7405,\n",
       "  'ORIGIN_AIRPORT_ID': 14869,\n",
       "  'ORIGIN_CITY_NAME': 'Salt Lake City, UT',\n",
       "  'ORIGIN_STATE_NM': 'Utah',\n",
       "  'DEST_AIRPORT_ID': 15389,\n",
       "  'DEST_CITY_NAME': 'Twin Falls, ID',\n",
       "  'DEST_STATE_NM': 'Idaho',\n",
       "  'DEP_TIME': 802.0,\n",
       "  'DEP_DELAY': 902.0,\n",
       "  'TAXI_OUT': 19.0,\n",
       "  'WHEELS_OFF': 821.0,\n",
       "  'WHEELS_ON': 901.0,\n",
       "  'TAXI_IN': 3.0,\n",
       "  'ARR_TIME': 904.0,\n",
       "  'ARR_DELAY': 909.0,\n",
       "  'CANCELLED': 0,\n",
       "  'CANCELLATION_CODE': None,\n",
       "  'DIVERTED': 0,\n",
       "  'ACTUAL_ELAPSED_TIME': 62.0,\n",
       "  'FLIGHTS': 1,\n",
       "  'DISTANCE': 175,\n",
       "  'CARRIER_DELAY': 0.0,\n",
       "  'WEATHER_DELAY': 902.0,\n",
       "  'NAS_DELAY': 7.0,\n",
       "  'SECURITY_DELAY': 0.0,\n",
       "  'LATE_AIRCRAFT_DELAY': 0.0,\n",
       "  'Unnamed: 31': None,\n",
       "  'CARRIER_NAME': 'SkyWest Airlines Inc.',\n",
       "  'AIRLINE_NAME': 'SkyWest Airlines Inc.: OO',\n",
       "  'ORIGIN_AIRPORT_NAME': 'Salt Lake City, UT: Salt Lake City International',\n",
       "  'CANCELLATION_REASON': 'No input'},\n",
       " {'DAY_OF_MONTH': 14,\n",
       "  'DAY_OF_WEEK': 2,\n",
       "  'FL_DATE': '2017-02-14',\n",
       "  'UNIQUE_CARRIER': 'EV',\n",
       "  'AIRLINE_ID': 20366,\n",
       "  'FL_NUM': 4069,\n",
       "  'ORIGIN_AIRPORT_ID': 10781,\n",
       "  'ORIGIN_CITY_NAME': 'Baton Rouge, LA',\n",
       "  'ORIGIN_STATE_NM': 'Louisiana',\n",
       "  'DEST_AIRPORT_ID': 12266,\n",
       "  'DEST_CITY_NAME': 'Houston, TX',\n",
       "  'DEST_STATE_NM': 'Texas',\n",
       "  'DEP_TIME': 608.0,\n",
       "  'DEP_DELAY': 873.0,\n",
       "  'TAXI_OUT': 12.0,\n",
       "  'WHEELS_OFF': 620.0,\n",
       "  'WHEELS_ON': 707.0,\n",
       "  'TAXI_IN': 5.0,\n",
       "  'ARR_TIME': 712.0,\n",
       "  'ARR_DELAY': 863.0,\n",
       "  'CANCELLED': 0,\n",
       "  'CANCELLATION_CODE': None,\n",
       "  'DIVERTED': 0,\n",
       "  'ACTUAL_ELAPSED_TIME': 64.0,\n",
       "  'FLIGHTS': 1,\n",
       "  'DISTANCE': 253,\n",
       "  'CARRIER_DELAY': 0.0,\n",
       "  'WEATHER_DELAY': 863.0,\n",
       "  'NAS_DELAY': 0.0,\n",
       "  'SECURITY_DELAY': 0.0,\n",
       "  'LATE_AIRCRAFT_DELAY': 0.0,\n",
       "  'Unnamed: 31': None,\n",
       "  'CARRIER_NAME': 'ExpressJet Airlines Inc.',\n",
       "  'AIRLINE_NAME': 'ExpressJet Airlines Inc.: EV',\n",
       "  'ORIGIN_AIRPORT_NAME': 'Baton Rouge, LA: Baton Rouge Metropolitan/Ryan Field',\n",
       "  'CANCELLATION_REASON': 'No input'},\n",
       " {'DAY_OF_MONTH': 12,\n",
       "  'DAY_OF_WEEK': 7,\n",
       "  'FL_DATE': '2017-02-12',\n",
       "  'UNIQUE_CARRIER': 'HA',\n",
       "  'AIRLINE_ID': 19690,\n",
       "  'FL_NUM': 51,\n",
       "  'ORIGIN_AIRPORT_ID': 12478,\n",
       "  'ORIGIN_CITY_NAME': 'New York, NY',\n",
       "  'ORIGIN_STATE_NM': 'New York',\n",
       "  'DEST_AIRPORT_ID': 12173,\n",
       "  'DEST_CITY_NAME': 'Honolulu, HI',\n",
       "  'DEST_STATE_NM': 'Hawaii',\n",
       "  'DEP_TIME': 55.0,\n",
       "  'DEP_DELAY': 895.0,\n",
       "  'TAXI_OUT': 25.0,\n",
       "  'WHEELS_OFF': 120.0,\n",
       "  'WHEELS_ON': 642.0,\n",
       "  'TAXI_IN': 13.0,\n",
       "  'ARR_TIME': 655.0,\n",
       "  'ARR_DELAY': 860.0,\n",
       "  'CANCELLED': 0,\n",
       "  'CANCELLATION_CODE': None,\n",
       "  'DIVERTED': 0,\n",
       "  'ACTUAL_ELAPSED_TIME': 660.0,\n",
       "  'FLIGHTS': 1,\n",
       "  'DISTANCE': 4983,\n",
       "  'CARRIER_DELAY': 0.0,\n",
       "  'WEATHER_DELAY': 860.0,\n",
       "  'NAS_DELAY': 0.0,\n",
       "  'SECURITY_DELAY': 0.0,\n",
       "  'LATE_AIRCRAFT_DELAY': 0.0,\n",
       "  'Unnamed: 31': None,\n",
       "  'CARRIER_NAME': 'Hawaiian Airlines Inc.',\n",
       "  'AIRLINE_NAME': 'Hawaiian Airlines Inc.: HA',\n",
       "  'ORIGIN_AIRPORT_NAME': 'New York, NY: John F. Kennedy International',\n",
       "  'CANCELLATION_REASON': 'No input'}]"
      ]
     },
     "execution_count": 42,
     "metadata": {},
     "output_type": "execute_result"
    }
   ],
   "source": [
    "order = weather_delay_1[0:10]\n",
    "order"
   ]
  },
  {
   "cell_type": "code",
   "execution_count": 43,
   "id": "893bf8c5",
   "metadata": {},
   "outputs": [
    {
     "data": {
      "text/plain": [
       "['American Airlines Inc.',\n",
       " 'United Air Lines Inc.',\n",
       " 'SkyWest Airlines Inc.',\n",
       " 'SkyWest Airlines Inc.',\n",
       " 'United Air Lines Inc.',\n",
       " 'SkyWest Airlines Inc.',\n",
       " 'American Airlines Inc.',\n",
       " 'SkyWest Airlines Inc.',\n",
       " 'ExpressJet Airlines Inc.',\n",
       " 'Hawaiian Airlines Inc.']"
      ]
     },
     "execution_count": 43,
     "metadata": {},
     "output_type": "execute_result"
    }
   ],
   "source": [
    "[ row['CARRIER_NAME'] for row in order]"
   ]
  },
  {
   "cell_type": "markdown",
   "id": "7c13c774",
   "metadata": {},
   "source": [
    "# H3Q2 attempt #2 lol"
   ]
  },
  {
   "cell_type": "code",
   "execution_count": 44,
   "id": "87dace47",
   "metadata": {},
   "outputs": [],
   "source": [
    "# what are the top 10 weather delays in descending order?\n",
    "desc_list = Counter(row['CARRIER_NAME'] for row in weather_delay_1)"
   ]
  },
  {
   "cell_type": "code",
   "execution_count": 45,
   "id": "8f5d3d50",
   "metadata": {},
   "outputs": [
    {
     "data": {
      "text/plain": [
       "[('Delta Air Lines Inc.', 565),\n",
       " ('Southwest Airlines Co.', 560),\n",
       " ('SkyWest Airlines Inc.', 425),\n",
       " ('Hawaiian Airlines Inc.', 362),\n",
       " ('Virgin America', 348),\n",
       " ('United Air Lines Inc.', 344),\n",
       " ('American Airlines Inc.', 276),\n",
       " ('JetBlue Airways', 167),\n",
       " ('Alaska Airlines Inc.', 157),\n",
       " ('ExpressJet Airlines Inc.', 73)]"
      ]
     },
     "execution_count": 45,
     "metadata": {},
     "output_type": "execute_result"
    }
   ],
   "source": [
    "desc_list.most_common(10)"
   ]
  }
 ],
 "metadata": {
  "kernelspec": {
   "display_name": "Python 3 (ipykernel)",
   "language": "python",
   "name": "python3"
  },
  "language_info": {
   "codemirror_mode": {
    "name": "ipython",
    "version": 3
   },
   "file_extension": ".py",
   "mimetype": "text/x-python",
   "name": "python",
   "nbconvert_exporter": "python",
   "pygments_lexer": "ipython3",
   "version": "3.9.6"
  },
  "toc-autonumbering": false
 },
 "nbformat": 4,
 "nbformat_minor": 5
}
