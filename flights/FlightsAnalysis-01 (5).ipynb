{
 "cells": [
  {
   "cell_type": "code",
   "execution_count": 1,
   "id": "ancient-measurement",
   "metadata": {},
   "outputs": [],
   "source": [
    "import pandas as pd\n",
    "import numpy as np\n",
    "import collections\n",
    "import re\n",
    "import sqlite3"
   ]
  },
  {
   "cell_type": "code",
   "execution_count": 2,
   "id": "intended-lingerie",
   "metadata": {},
   "outputs": [],
   "source": [
    "# Change this to your path to the DB file!\n",
    "database = \"flights.db\"\n",
    "conn = sqlite3.connect(database)"
   ]
  },
  {
   "cell_type": "markdown",
   "id": "operating-sleeve",
   "metadata": {},
   "source": [
    "### Load raw data "
   ]
  },
  {
   "cell_type": "code",
   "execution_count": 3,
   "id": "polish-finger",
   "metadata": {},
   "outputs": [],
   "source": [
    "# load our datasets\n",
    "# These first four are used as lookup tables\n",
    "airlines =     pd.read_sql('SELECT * FROM airlines', con=conn)\n",
    "airports =     pd.read_sql('SELECT * FROM airports', con=conn)\n",
    "cancel_codes = pd.read_sql('SELECT * FROM cancel_codes', con=conn)\n",
    "carriers =     pd.read_sql('SELECT * FROM carriers', con=conn)\n",
    "# This has all the data about flights\n",
    "flights =      pd.read_sql('SELECT * FROM flights', con=conn)"
   ]
  },
  {
   "cell_type": "code",
   "execution_count": 4,
   "id": "congressional-escape",
   "metadata": {},
   "outputs": [],
   "source": [
    "#Closing the connection to the db, since we're done using it\n",
    "conn.close()"
   ]
  },
  {
   "cell_type": "markdown",
   "id": "armed-seven",
   "metadata": {},
   "source": [
    "### Some transforms to get it ready for analysis"
   ]
  },
  {
   "cell_type": "code",
   "execution_count": 5,
   "id": "electoral-confidence",
   "metadata": {},
   "outputs": [],
   "source": [
    "# Turn our flights table into a list of dicts\n",
    "# Normally we wouldn't do this, but for the sake of learning to deal with data\n",
    "# structures in Python, we'll do it this way :)\n",
    "flights = flights.to_dict(orient='records')"
   ]
  },
  {
   "cell_type": "code",
   "execution_count": 6,
   "id": "050067ec",
   "metadata": {},
   "outputs": [
    {
     "data": {
      "text/plain": [
       "list"
      ]
     },
     "execution_count": 6,
     "metadata": {},
     "output_type": "execute_result"
    }
   ],
   "source": [
    "type(flights)"
   ]
  },
  {
   "cell_type": "code",
   "execution_count": 7,
   "id": "21d0dcdb",
   "metadata": {},
   "outputs": [
    {
     "name": "stdout",
     "output_type": "stream",
     "text": [
      "410517\n"
     ]
    }
   ],
   "source": [
    "#flights is currently a list of dicts technically stored in an array. \n",
    "#It has 410,517 elements in it.\n",
    "print(len(flights))"
   ]
  },
  {
   "cell_type": "code",
   "execution_count": 8,
   "id": "d2187bb9",
   "metadata": {},
   "outputs": [
    {
     "data": {
      "text/plain": [
       "{'DAY_OF_MONTH': 1,\n",
       " 'DAY_OF_WEEK': 3,\n",
       " 'FL_DATE': '2017-02-01',\n",
       " 'UNIQUE_CARRIER': 'B6',\n",
       " 'AIRLINE_ID': 20409,\n",
       " 'FL_NUM': 33,\n",
       " 'ORIGIN_AIRPORT_ID': 10785,\n",
       " 'ORIGIN_CITY_NAME': 'Burlington, VT',\n",
       " 'ORIGIN_STATE_NM': 'Vermont',\n",
       " 'DEST_AIRPORT_ID': 12478,\n",
       " 'DEST_CITY_NAME': 'New York, NY',\n",
       " 'DEST_STATE_NM': 'New York',\n",
       " 'DEP_TIME': 1857.0,\n",
       " 'DEP_DELAY': -10.0,\n",
       " 'TAXI_OUT': 16.0,\n",
       " 'WHEELS_OFF': 1913.0,\n",
       " 'WHEELS_ON': 2019.0,\n",
       " 'TAXI_IN': 10.0,\n",
       " 'ARR_TIME': 2029.0,\n",
       " 'ARR_DELAY': -8.0,\n",
       " 'CANCELLED': 0,\n",
       " 'CANCELLATION_CODE': None,\n",
       " 'DIVERTED': 0,\n",
       " 'ACTUAL_ELAPSED_TIME': 92.0,\n",
       " 'FLIGHTS': 1,\n",
       " 'DISTANCE': 266,\n",
       " 'CARRIER_DELAY': nan,\n",
       " 'WEATHER_DELAY': nan,\n",
       " 'NAS_DELAY': nan,\n",
       " 'SECURITY_DELAY': nan,\n",
       " 'LATE_AIRCRAFT_DELAY': nan,\n",
       " 'Unnamed: 31': None}"
      ]
     },
     "execution_count": 8,
     "metadata": {},
     "output_type": "execute_result"
    }
   ],
   "source": [
    "#viewing and inspecting the first element.\n",
    "flights[0]"
   ]
  },
  {
   "cell_type": "code",
   "execution_count": 13,
   "id": "7260eb32",
   "metadata": {},
   "outputs": [
    {
     "data": {
      "text/plain": [
       "{'A', 'B', 'C', None}"
      ]
     },
     "execution_count": 13,
     "metadata": {},
     "output_type": "execute_result"
    }
   ],
   "source": [
    "{ row['CANCELLATION_CODE'] for row in flights }"
   ]
  },
  {
   "cell_type": "markdown",
   "id": "passing-terrorist",
   "metadata": {},
   "source": [
    "### HW 1: Answer the following questions about the `flights` :"
   ]
  },
  {
   "cell_type": "markdown",
   "id": "welsh-advisory",
   "metadata": {},
   "source": [
    "What datatype is our `flights` object now (a list, dict, etc)?"
   ]
  },
  {
   "cell_type": "markdown",
   "id": "accurate-investment",
   "metadata": {},
   "source": [
    "How many elements are in it?"
   ]
  },
  {
   "cell_type": "markdown",
   "id": "limiting-dinner",
   "metadata": {},
   "source": [
    "How can we look at/inspect the first element?"
   ]
  },
  {
   "cell_type": "markdown",
   "id": "documented-collectible",
   "metadata": {},
   "source": [
    "### HW 2: Create dictionaries from our lookup tables, making the `Code` the key and the `Description` the value"
   ]
  },
  {
   "cell_type": "code",
   "execution_count": 9,
   "id": "statistical-equilibrium",
   "metadata": {},
   "outputs": [],
   "source": [
    "cancel_codes_dict= dict(zip(cancel_codes.Code, cancel_codes.Description))\n",
    "\n",
    "# Go ahead and create more dictionaries for airlines, airports and carriers where\n",
    "# for each the key will be the `Code` and the value will be the `Description`\n",
    "\n",
    "airlines_dict = dict(zip(airlines.Code, airlines.Description))\n",
    "\n",
    "airports_dict = dict(zip(airports.Code, airports.Description))\n",
    "\n",
    "carriers_dict = dict(zip(carriers.Code, carriers.Description))\n",
    "# When you're done there should be four dicts (cancel_codes_dict, airlines_dict, airports_dict, carriers_dict)"
   ]
  },
  {
   "cell_type": "markdown",
   "id": "closed-station",
   "metadata": {},
   "source": [
    "### HW 3: Add in our dictionary mappings to our `flights` data\n",
    "Using our mappings, please create the following new keys in each 'row' of flights with the appropriate value:\n",
    " - AIRLINE_NAME\n",
    " - ORIGIN_AIRPORT_NAME\n",
    " - CARRIER_NAME\n",
    " - CANCELLATION_REASON"
   ]
  },
  {
   "cell_type": "code",
   "execution_count": 10,
   "id": "a62913fd",
   "metadata": {},
   "outputs": [
    {
     "data": {
      "text/plain": [
       "{'A': 'Carrier', 'B': 'Weather', 'C': 'National Air System', 'D': 'Security'}"
      ]
     },
     "execution_count": 10,
     "metadata": {},
     "output_type": "execute_result"
    }
   ],
   "source": [
    "cancel_codes_dict"
   ]
  },
  {
   "cell_type": "code",
   "execution_count": 11,
   "id": "856edae1",
   "metadata": {},
   "outputs": [],
   "source": [
    "for row_dict in flights:\n",
    "    carrier_id = row_dict['UNIQUE_CARRIER']\n",
    "    carrier_nm = carriers_dict[carrier_id]\n",
    "    row_dict['CARRIER_NAME'] = carriers_dict.get(row_dict['UNIQUE_CARRIER'])\n",
    "    \n",
    "    airline_id = row_dict['AIRLINE_ID']\n",
    "    airline_nm = airlines_dict[airline_id]\n",
    "    row_dict['AIRLINE_NAME'] = airlines_dict.get(row_dict['AIRLINE_ID'])\n",
    "    \n",
    "    origin_id = row_dict['ORIGIN_AIRPORT_ID']\n",
    "    origin_nm = airports_dict[origin_id]\n",
    "    row_dict['ORIGIN_AIRPORT_NAME'] = airports_dict.get(row_dict['ORIGIN_AIRPORT_ID'])\n",
    "    \n",
    "   "
   ]
  },
  {
   "cell_type": "code",
   "execution_count": 16,
   "id": "baa2226e",
   "metadata": {
    "scrolled": true
   },
   "outputs": [
    {
     "ename": "KeyError",
     "evalue": "None",
     "output_type": "error",
     "traceback": [
      "\u001b[1;31m---------------------------------------------------------------------------\u001b[0m",
      "\u001b[1;31mKeyError\u001b[0m                                  Traceback (most recent call last)",
      "\u001b[1;32m~\\AppData\\Local\\Temp/ipykernel_12856/2496871077.py\u001b[0m in \u001b[0;36m<module>\u001b[1;34m\u001b[0m\n\u001b[0;32m      4\u001b[0m     \u001b[1;32melse\u001b[0m\u001b[1;33m:\u001b[0m\u001b[1;33m\u001b[0m\u001b[1;33m\u001b[0m\u001b[0m\n\u001b[0;32m      5\u001b[0m         \u001b[0mcancellation_id\u001b[0m \u001b[1;33m=\u001b[0m \u001b[0mrow_dict\u001b[0m\u001b[1;33m[\u001b[0m\u001b[1;34m'CANCELLATION_CODE'\u001b[0m\u001b[1;33m]\u001b[0m\u001b[1;33m\u001b[0m\u001b[1;33m\u001b[0m\u001b[0m\n\u001b[1;32m----> 6\u001b[1;33m         \u001b[0mcancellation_nm\u001b[0m \u001b[1;33m=\u001b[0m \u001b[0mcancel_codes_dict\u001b[0m\u001b[1;33m[\u001b[0m\u001b[0mcancellation_id\u001b[0m\u001b[1;33m]\u001b[0m\u001b[1;33m\u001b[0m\u001b[1;33m\u001b[0m\u001b[0m\n\u001b[0m\u001b[0;32m      7\u001b[0m         \u001b[0mrow_dict\u001b[0m\u001b[1;33m[\u001b[0m\u001b[1;34m'CANCELLATION_REASON'\u001b[0m\u001b[1;33m]\u001b[0m \u001b[1;33m=\u001b[0m \u001b[0mcancel_codes_dict\u001b[0m\u001b[1;33m.\u001b[0m\u001b[0mget\u001b[0m\u001b[1;33m(\u001b[0m\u001b[0mrow_dict\u001b[0m\u001b[1;33m[\u001b[0m\u001b[1;34m'CANCELLATION_CODE'\u001b[0m\u001b[1;33m]\u001b[0m\u001b[1;33m)\u001b[0m\u001b[1;33m\u001b[0m\u001b[1;33m\u001b[0m\u001b[0m\n",
      "\u001b[1;31mKeyError\u001b[0m: None"
     ]
    }
   ],
   "source": [
    "for row_dict in flights:\n",
    "    if row_dict['CANCELLATION_CODE'] == 'None':\n",
    "        (row_dict['CANCELLATION_CODE'])\n",
    "    else:\n",
    "        cancellation_id = row_dict['CANCELLATION_CODE']\n",
    "        cancellation_nm = cancel_codes_dict[cancellation_id]\n",
    "        row_dict['CANCELLATION_REASON'] = cancel_codes_dict.get(row_dict['CANCELLATION_CODE'])"
   ]
  },
  {
   "cell_type": "code",
   "execution_count": null,
   "id": "7be37601",
   "metadata": {},
   "outputs": [],
   "source": []
  },
  {
   "cell_type": "code",
   "execution_count": null,
   "id": "8ab4473e",
   "metadata": {},
   "outputs": [],
   "source": [
    "flights[0]"
   ]
  },
  {
   "cell_type": "markdown",
   "id": "078412bd",
   "metadata": {},
   "source": [
    "# Homework 2"
   ]
  },
  {
   "cell_type": "code",
   "execution_count": null,
   "id": "e281bc2e",
   "metadata": {},
   "outputs": [],
   "source": [
    "#What are the unique airlines in the list of flights?\n",
    "unique_airline = { row['AIRLINE_NAME'] for row in flights}"
   ]
  },
  {
   "cell_type": "code",
   "execution_count": null,
   "id": "2c62feff",
   "metadata": {},
   "outputs": [],
   "source": [
    "unique_airline"
   ]
  },
  {
   "cell_type": "code",
   "execution_count": null,
   "id": "9b47b3a4",
   "metadata": {},
   "outputs": [],
   "source": [
    "x = { row['DEP_DELAY'] for row in flights}"
   ]
  },
  {
   "cell_type": "code",
   "execution_count": null,
   "id": "fc700711",
   "metadata": {},
   "outputs": [],
   "source": [
    "long_delay = [ row for row in flights if row['DEP_DELAY'] > 1000]"
   ]
  },
  {
   "cell_type": "code",
   "execution_count": null,
   "id": "c433dff9",
   "metadata": {},
   "outputs": [],
   "source": [
    "len(long_delay)"
   ]
  },
  {
   "cell_type": "code",
   "execution_count": null,
   "id": "dcc0a1ef",
   "metadata": {},
   "outputs": [],
   "source": [
    "long_delay_pick = [ row for row in flights if row['DEP_DELAY'] > 1400]"
   ]
  },
  {
   "cell_type": "code",
   "execution_count": null,
   "id": "e3a24d97",
   "metadata": {},
   "outputs": [],
   "source": [
    "len(long_delay_pick)"
   ]
  },
  {
   "cell_type": "code",
   "execution_count": null,
   "id": "7abd86b8",
   "metadata": {},
   "outputs": [],
   "source": [
    "long_delay_pick"
   ]
  },
  {
   "cell_type": "code",
   "execution_count": null,
   "id": "c6f2f752",
   "metadata": {},
   "outputs": [],
   "source": [
    "[5,1,2,6,5,8]"
   ]
  },
  {
   "cell_type": "code",
   "execution_count": null,
   "id": "69c2b4ec",
   "metadata": {},
   "outputs": [],
   "source": [
    "for i in [5,1,2,6,5,8]:\n",
    "    print(i)"
   ]
  },
  {
   "cell_type": "code",
   "execution_count": null,
   "id": "70d25f87",
   "metadata": {},
   "outputs": [],
   "source": [
    "#Which flight had the longest departure delay?\n",
    "#i iteration should relate to all lines \n",
    "longest_delay=0\n",
    "max_idx=None\n",
    "\n",
    "for i in long_delay_pick:\n",
    "    #version 1: two lookups\n",
    "    if longest_delay < i['DEP_DELAY']:\n",
    "        longest_delay = i['DEP_DELAY']\n",
    "        max_idx = i\n",
    "        \n",
    "    #version 2\n",
    "    \n",
    "    \n",
    "    #version 3\n",
    "        \n",
    "    #print('Maximum value:' ,longest_delay, 'at index:', max_idx)"
   ]
  },
  {
   "cell_type": "code",
   "execution_count": null,
   "id": "ef2d6639",
   "metadata": {},
   "outputs": [],
   "source": [
    "max_idx"
   ]
  },
  {
   "cell_type": "code",
   "execution_count": null,
   "id": "13b10dd4",
   "metadata": {},
   "outputs": [],
   "source": [
    "#find the min\n",
    "temps = [\n",
    "    {'temp': 80, 'name': 'slc'},\n",
    "    {'temp': 75, 'name': 'omaha'}, \n",
    "    {'temp': 90, 'name': 'miami'},\n",
    "]"
   ]
  },
  {
   "cell_type": "code",
   "execution_count": null,
   "id": "9a993157",
   "metadata": {},
   "outputs": [],
   "source": [
    "max(flights, key=lambda d: d['DEP_DELAY'])"
   ]
  },
  {
   "cell_type": "markdown",
   "id": "00b78664",
   "metadata": {},
   "source": [
    "# Homework 3"
   ]
  },
  {
   "cell_type": "code",
   "execution_count": null,
   "id": "c0ce6403",
   "metadata": {},
   "outputs": [],
   "source": [
    "#Which carrier had the most time delay b/c of "
   ]
  },
  {
   "cell_type": "code",
   "execution_count": null,
   "id": "bfc7d3f4",
   "metadata": {},
   "outputs": [],
   "source": []
  },
  {
   "cell_type": "code",
   "execution_count": null,
   "id": "8f5d3d50",
   "metadata": {},
   "outputs": [],
   "source": [
    "# time iterates once timeit will do multiple"
   ]
  },
  {
   "cell_type": "code",
   "execution_count": null,
   "id": "ef630885",
   "metadata": {},
   "outputs": [],
   "source": [
    "#collections module."
   ]
  }
 ],
 "metadata": {
  "kernelspec": {
   "display_name": "Python 3 (ipykernel)",
   "language": "python",
   "name": "python3"
  },
  "language_info": {
   "codemirror_mode": {
    "name": "ipython",
    "version": 3
   },
   "file_extension": ".py",
   "mimetype": "text/x-python",
   "name": "python",
   "nbconvert_exporter": "python",
   "pygments_lexer": "ipython3",
   "version": "3.9.6"
  },
  "toc-autonumbering": false
 },
 "nbformat": 4,
 "nbformat_minor": 5
}
