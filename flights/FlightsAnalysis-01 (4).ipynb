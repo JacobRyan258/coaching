{
 "cells": [
  {
   "cell_type": "code",
   "execution_count": 1,
   "id": "ancient-measurement",
   "metadata": {},
   "outputs": [],
   "source": [
    "import pandas as pd\n",
    "import numpy as np\n",
    "import collections\n",
    "import re\n",
    "import sqlite3"
   ]
  },
  {
   "cell_type": "code",
   "execution_count": 2,
   "id": "intended-lingerie",
   "metadata": {},
   "outputs": [],
   "source": [
    "# Change this to your path to the DB file!\n",
    "database = \"flights.db\"\n",
    "conn = sqlite3.connect(database)"
   ]
  },
  {
   "cell_type": "markdown",
   "id": "operating-sleeve",
   "metadata": {},
   "source": [
    "### Load raw data "
   ]
  },
  {
   "cell_type": "code",
   "execution_count": 3,
   "id": "polish-finger",
   "metadata": {},
   "outputs": [],
   "source": [
    "# load our datasets\n",
    "# These first four are used as lookup tables\n",
    "airlines =     pd.read_sql('SELECT * FROM airlines', con=conn)\n",
    "airports =     pd.read_sql('SELECT * FROM airports', con=conn)\n",
    "cancel_codes = pd.read_sql('SELECT * FROM cancel_codes', con=conn)\n",
    "carriers =     pd.read_sql('SELECT * FROM carriers', con=conn)\n",
    "# This has all the data about flights\n",
    "flights =      pd.read_sql('SELECT * FROM flights', con=conn)"
   ]
  },
  {
   "cell_type": "code",
   "execution_count": 4,
   "id": "congressional-escape",
   "metadata": {},
   "outputs": [],
   "source": [
    "#Closing the connection to the db, since we're done using it\n",
    "conn.close()"
   ]
  },
  {
   "cell_type": "markdown",
   "id": "armed-seven",
   "metadata": {},
   "source": [
    "### Some transforms to get it ready for analysis"
   ]
  },
  {
   "cell_type": "code",
   "execution_count": 5,
   "id": "electoral-confidence",
   "metadata": {},
   "outputs": [],
   "source": [
    "# Turn our flights table into a list of dicts\n",
    "# Normally we wouldn't do this, but for the sake of learning to deal with data\n",
    "# structures in Python, we'll do it this way :)\n",
    "flights = flights.to_dict(orient='records')"
   ]
  },
  {
   "cell_type": "code",
   "execution_count": 6,
   "id": "050067ec",
   "metadata": {},
   "outputs": [
    {
     "data": {
      "text/plain": [
       "list"
      ]
     },
     "execution_count": 6,
     "metadata": {},
     "output_type": "execute_result"
    }
   ],
   "source": [
    "type(flights)"
   ]
  },
  {
   "cell_type": "code",
   "execution_count": 7,
   "id": "21d0dcdb",
   "metadata": {},
   "outputs": [
    {
     "name": "stdout",
     "output_type": "stream",
     "text": [
      "410517\n"
     ]
    }
   ],
   "source": [
    "#flights is currently a list of dicts technically stored in an array. \n",
    "#It has 410,517 elements in it.\n",
    "print(len(flights))"
   ]
  },
  {
   "cell_type": "code",
   "execution_count": 8,
   "id": "d2187bb9",
   "metadata": {},
   "outputs": [
    {
     "data": {
      "text/plain": [
       "{'DAY_OF_MONTH': 1,\n",
       " 'DAY_OF_WEEK': 3,\n",
       " 'FL_DATE': '2017-02-01',\n",
       " 'UNIQUE_CARRIER': 'B6',\n",
       " 'AIRLINE_ID': 20409,\n",
       " 'FL_NUM': 33,\n",
       " 'ORIGIN_AIRPORT_ID': 10785,\n",
       " 'ORIGIN_CITY_NAME': 'Burlington, VT',\n",
       " 'ORIGIN_STATE_NM': 'Vermont',\n",
       " 'DEST_AIRPORT_ID': 12478,\n",
       " 'DEST_CITY_NAME': 'New York, NY',\n",
       " 'DEST_STATE_NM': 'New York',\n",
       " 'DEP_TIME': 1857.0,\n",
       " 'DEP_DELAY': -10.0,\n",
       " 'TAXI_OUT': 16.0,\n",
       " 'WHEELS_OFF': 1913.0,\n",
       " 'WHEELS_ON': 2019.0,\n",
       " 'TAXI_IN': 10.0,\n",
       " 'ARR_TIME': 2029.0,\n",
       " 'ARR_DELAY': -8.0,\n",
       " 'CANCELLED': 0,\n",
       " 'CANCELLATION_CODE': None,\n",
       " 'DIVERTED': 0,\n",
       " 'ACTUAL_ELAPSED_TIME': 92.0,\n",
       " 'FLIGHTS': 1,\n",
       " 'DISTANCE': 266,\n",
       " 'CARRIER_DELAY': nan,\n",
       " 'WEATHER_DELAY': nan,\n",
       " 'NAS_DELAY': nan,\n",
       " 'SECURITY_DELAY': nan,\n",
       " 'LATE_AIRCRAFT_DELAY': nan,\n",
       " 'Unnamed: 31': None}"
      ]
     },
     "execution_count": 8,
     "metadata": {},
     "output_type": "execute_result"
    }
   ],
   "source": [
    "#viewing and inspecting the first element.\n",
    "flights[0]"
   ]
  },
  {
   "cell_type": "markdown",
   "id": "passing-terrorist",
   "metadata": {},
   "source": [
    "### HW 1: Answer the following questions about the `flights` :"
   ]
  },
  {
   "cell_type": "markdown",
   "id": "welsh-advisory",
   "metadata": {},
   "source": [
    "What datatype is our `flights` object now (a list, dict, etc)?"
   ]
  },
  {
   "cell_type": "markdown",
   "id": "accurate-investment",
   "metadata": {},
   "source": [
    "How many elements are in it?"
   ]
  },
  {
   "cell_type": "markdown",
   "id": "limiting-dinner",
   "metadata": {},
   "source": [
    "How can we look at/inspect the first element?"
   ]
  },
  {
   "cell_type": "markdown",
   "id": "documented-collectible",
   "metadata": {},
   "source": [
    "### HW 2: Create dictionaries from our lookup tables, making the `Code` the key and the `Description` the value"
   ]
  },
  {
   "cell_type": "code",
   "execution_count": 9,
   "id": "statistical-equilibrium",
   "metadata": {},
   "outputs": [],
   "source": [
    "cancel_codes_dict= dict(zip(cancel_codes.Code, cancel_codes.Description))\n",
    "\n",
    "# Go ahead and create more dictionaries for airlines, airports and carriers where\n",
    "# for each the key will be the `Code` and the value will be the `Description`\n",
    "\n",
    "airlines_dict = dict(zip(airlines.Code, airlines.Description))\n",
    "\n",
    "airports_dict = dict(zip(airports.Code, airports.Description))\n",
    "\n",
    "carriers_dict = dict(zip(carriers.Code, carriers.Description))\n",
    "# When you're done there should be four dicts (cancel_codes_dict, airlines_dict, airports_dict, carriers_dict)"
   ]
  },
  {
   "cell_type": "markdown",
   "id": "closed-station",
   "metadata": {},
   "source": [
    "### HW 3: Add in our dictionary mappings to our `flights` data\n",
    "Using our mappings, please create the following new keys in each 'row' of flights with the appropriate value:\n",
    " - AIRLINE_NAME\n",
    " - ORIGIN_AIRPORT_NAME\n",
    " - CARRIER_NAME\n",
    " - CANCELLATION_REASON"
   ]
  },
  {
   "cell_type": "code",
   "execution_count": 10,
   "id": "a62913fd",
   "metadata": {},
   "outputs": [
    {
     "data": {
      "text/plain": [
       "{'A': 'Carrier', 'B': 'Weather', 'C': 'National Air System', 'D': 'Security'}"
      ]
     },
     "execution_count": 10,
     "metadata": {},
     "output_type": "execute_result"
    }
   ],
   "source": [
    "cancel_codes_dict"
   ]
  },
  {
   "cell_type": "code",
   "execution_count": 11,
   "id": "b595445c",
   "metadata": {},
   "outputs": [
    {
     "data": {
      "text/plain": [
       "{'A': 'Carrier',\n",
       " 'B': 'Weather',\n",
       " 'C': 'National Air System',\n",
       " 'D': 'Security',\n",
       " 'None': 'None'}"
      ]
     },
     "execution_count": 11,
     "metadata": {},
     "output_type": "execute_result"
    }
   ],
   "source": [
    "cancel_codes_dict['None'] = 'None'\n",
    "cancel_codes_dict"
   ]
  },
  {
   "cell_type": "code",
   "execution_count": 12,
   "id": "856edae1",
   "metadata": {},
   "outputs": [],
   "source": [
    "for row_dict in flights:\n",
    "    carrier_id = row_dict['UNIQUE_CARRIER']\n",
    "    carrier_nm = carriers_dict[carrier_id]\n",
    "    row_dict['CARRIER_NAME'] = carriers_dict.get(row_dict['UNIQUE_CARRIER'])\n",
    "    \n",
    "    airline_id = row_dict['AIRLINE_ID']\n",
    "    airline_nm = airlines_dict[airline_id]\n",
    "    row_dict['AIRLINE_NAME'] = airlines_dict.get(row_dict['AIRLINE_ID'])\n",
    "    \n",
    "    origin_id = row_dict['ORIGIN_AIRPORT_ID']\n",
    "    origin_nm = airports_dict[origin_id]\n",
    "    row_dict['ORIGIN_AIRPORT_NAME'] = airports_dict.get(row_dict['ORIGIN_AIRPORT_ID'])\n",
    "    \n",
    "    #cancellation_cd = row_dict['CANCELLATION_CODE']\n",
    "    #cancellation_nm = cancel_codes_dict[cancellation_cd]\n",
    "    #row_dict['CANCELLATION_REASON'] = cancel_codes_dict.get(row_dict['CANCELLATION_CODE'])\n",
    "    #I added 'None' to the dictionary, but it did not work the way I expected.\n",
    "    #Stuck here. Moving on to HW #2"
   ]
  },
  {
   "cell_type": "code",
   "execution_count": 13,
   "id": "8ab4473e",
   "metadata": {},
   "outputs": [
    {
     "data": {
      "text/plain": [
       "{'DAY_OF_MONTH': 1,\n",
       " 'DAY_OF_WEEK': 3,\n",
       " 'FL_DATE': '2017-02-01',\n",
       " 'UNIQUE_CARRIER': 'B6',\n",
       " 'AIRLINE_ID': 20409,\n",
       " 'FL_NUM': 33,\n",
       " 'ORIGIN_AIRPORT_ID': 10785,\n",
       " 'ORIGIN_CITY_NAME': 'Burlington, VT',\n",
       " 'ORIGIN_STATE_NM': 'Vermont',\n",
       " 'DEST_AIRPORT_ID': 12478,\n",
       " 'DEST_CITY_NAME': 'New York, NY',\n",
       " 'DEST_STATE_NM': 'New York',\n",
       " 'DEP_TIME': 1857.0,\n",
       " 'DEP_DELAY': -10.0,\n",
       " 'TAXI_OUT': 16.0,\n",
       " 'WHEELS_OFF': 1913.0,\n",
       " 'WHEELS_ON': 2019.0,\n",
       " 'TAXI_IN': 10.0,\n",
       " 'ARR_TIME': 2029.0,\n",
       " 'ARR_DELAY': -8.0,\n",
       " 'CANCELLED': 0,\n",
       " 'CANCELLATION_CODE': None,\n",
       " 'DIVERTED': 0,\n",
       " 'ACTUAL_ELAPSED_TIME': 92.0,\n",
       " 'FLIGHTS': 1,\n",
       " 'DISTANCE': 266,\n",
       " 'CARRIER_DELAY': nan,\n",
       " 'WEATHER_DELAY': nan,\n",
       " 'NAS_DELAY': nan,\n",
       " 'SECURITY_DELAY': nan,\n",
       " 'LATE_AIRCRAFT_DELAY': nan,\n",
       " 'Unnamed: 31': None,\n",
       " 'CARRIER_NAME': 'JetBlue Airways',\n",
       " 'AIRLINE_NAME': 'JetBlue Airways: B6',\n",
       " 'ORIGIN_AIRPORT_NAME': 'Burlington, VT: Burlington International'}"
      ]
     },
     "execution_count": 13,
     "metadata": {},
     "output_type": "execute_result"
    }
   ],
   "source": [
    "flights[0]"
   ]
  },
  {
   "cell_type": "markdown",
   "id": "078412bd",
   "metadata": {},
   "source": [
    "# Homework 2"
   ]
  },
  {
   "cell_type": "code",
   "execution_count": 14,
   "id": "e281bc2e",
   "metadata": {},
   "outputs": [],
   "source": [
    "#What are the unique airlines in the list of flights?\n",
    "unique_airline = { row['AIRLINE_NAME'] for row in flights}"
   ]
  },
  {
   "cell_type": "code",
   "execution_count": 15,
   "id": "2c62feff",
   "metadata": {},
   "outputs": [
    {
     "data": {
      "text/plain": [
       "{'Alaska Airlines Inc.: AS',\n",
       " 'American Airlines Inc.: AA',\n",
       " 'Delta Air Lines Inc.: DL',\n",
       " 'ExpressJet Airlines Inc.: EV',\n",
       " 'Frontier Airlines Inc.: F9',\n",
       " 'Hawaiian Airlines Inc.: HA',\n",
       " 'JetBlue Airways: B6',\n",
       " 'SkyWest Airlines Inc.: OO',\n",
       " 'Southwest Airlines Co.: WN',\n",
       " 'Spirit Air Lines: NK',\n",
       " 'United Air Lines Inc.: UA',\n",
       " 'Virgin America: VX'}"
      ]
     },
     "execution_count": 15,
     "metadata": {},
     "output_type": "execute_result"
    }
   ],
   "source": [
    "unique_airline"
   ]
  },
  {
   "cell_type": "code",
   "execution_count": 16,
   "id": "9b47b3a4",
   "metadata": {},
   "outputs": [],
   "source": [
    "x = { row['DEP_DELAY'] for row in flights}"
   ]
  },
  {
   "cell_type": "code",
   "execution_count": 18,
   "id": "fc700711",
   "metadata": {},
   "outputs": [],
   "source": [
    "long_delay = [ row for row in flights if row['DEP_DELAY'] > 1000]"
   ]
  },
  {
   "cell_type": "code",
   "execution_count": 19,
   "id": "c433dff9",
   "metadata": {},
   "outputs": [
    {
     "data": {
      "text/plain": [
       "55"
      ]
     },
     "execution_count": 19,
     "metadata": {},
     "output_type": "execute_result"
    }
   ],
   "source": [
    "len(long_delay)"
   ]
  },
  {
   "cell_type": "code",
   "execution_count": 20,
   "id": "dcc0a1ef",
   "metadata": {},
   "outputs": [],
   "source": [
    "long_delay_pick = [ row for row in flights if row['DEP_DELAY'] > 1400]"
   ]
  },
  {
   "cell_type": "code",
   "execution_count": 21,
   "id": "e3a24d97",
   "metadata": {},
   "outputs": [
    {
     "data": {
      "text/plain": [
       "6"
      ]
     },
     "execution_count": 21,
     "metadata": {},
     "output_type": "execute_result"
    }
   ],
   "source": [
    "len(long_delay_pick)"
   ]
  },
  {
   "cell_type": "code",
   "execution_count": 22,
   "id": "7abd86b8",
   "metadata": {},
   "outputs": [
    {
     "data": {
      "text/plain": [
       "[{'DAY_OF_MONTH': 7,\n",
       "  'DAY_OF_WEEK': 2,\n",
       "  'FL_DATE': '2017-02-07',\n",
       "  'UNIQUE_CARRIER': 'AA',\n",
       "  'AIRLINE_ID': 19805,\n",
       "  'FL_NUM': 2195,\n",
       "  'ORIGIN_AIRPORT_ID': 12441,\n",
       "  'ORIGIN_CITY_NAME': 'Jackson, WY',\n",
       "  'ORIGIN_STATE_NM': 'Wyoming',\n",
       "  'DEST_AIRPORT_ID': 11298,\n",
       "  'DEST_CITY_NAME': 'Dallas/Fort Worth, TX',\n",
       "  'DEST_STATE_NM': 'Texas',\n",
       "  'DEP_TIME': 1242.0,\n",
       "  'DEP_DELAY': 1410.0,\n",
       "  'TAXI_OUT': 16.0,\n",
       "  'WHEELS_OFF': 1258.0,\n",
       "  'WHEELS_ON': 1552.0,\n",
       "  'TAXI_IN': 6.0,\n",
       "  'ARR_TIME': 1558.0,\n",
       "  'ARR_DELAY': 1382.0,\n",
       "  'CANCELLED': 0,\n",
       "  'CANCELLATION_CODE': None,\n",
       "  'DIVERTED': 0,\n",
       "  'ACTUAL_ELAPSED_TIME': 136.0,\n",
       "  'FLIGHTS': 1,\n",
       "  'DISTANCE': 1047,\n",
       "  'CARRIER_DELAY': 76.0,\n",
       "  'WEATHER_DELAY': 0.0,\n",
       "  'NAS_DELAY': 0.0,\n",
       "  'SECURITY_DELAY': 0.0,\n",
       "  'LATE_AIRCRAFT_DELAY': 1306.0,\n",
       "  'Unnamed: 31': None,\n",
       "  'CARRIER_NAME': 'American Airlines Inc.',\n",
       "  'AIRLINE_NAME': 'American Airlines Inc.: AA',\n",
       "  'ORIGIN_AIRPORT_NAME': 'Jackson, WY: Jackson Hole'},\n",
       " {'DAY_OF_MONTH': 10,\n",
       "  'DAY_OF_WEEK': 5,\n",
       "  'FL_DATE': '2017-02-10',\n",
       "  'UNIQUE_CARRIER': 'OO',\n",
       "  'AIRLINE_ID': 20304,\n",
       "  'FL_NUM': 5777,\n",
       "  'ORIGIN_AIRPORT_ID': 13486,\n",
       "  'ORIGIN_CITY_NAME': 'Missoula, MT',\n",
       "  'ORIGIN_STATE_NM': 'Montana',\n",
       "  'DEST_AIRPORT_ID': 11292,\n",
       "  'DEST_CITY_NAME': 'Denver, CO',\n",
       "  'DEST_STATE_NM': 'Colorado',\n",
       "  'DEP_TIME': 1430.0,\n",
       "  'DEP_DELAY': 1410.0,\n",
       "  'TAXI_OUT': 10.0,\n",
       "  'WHEELS_OFF': 1440.0,\n",
       "  'WHEELS_ON': 1614.0,\n",
       "  'TAXI_IN': 8.0,\n",
       "  'ARR_TIME': 1622.0,\n",
       "  'ARR_DELAY': 1408.0,\n",
       "  'CANCELLED': 0,\n",
       "  'CANCELLATION_CODE': None,\n",
       "  'DIVERTED': 0,\n",
       "  'ACTUAL_ELAPSED_TIME': 112.0,\n",
       "  'FLIGHTS': 1,\n",
       "  'DISTANCE': 679,\n",
       "  'CARRIER_DELAY': 1408.0,\n",
       "  'WEATHER_DELAY': 0.0,\n",
       "  'NAS_DELAY': 0.0,\n",
       "  'SECURITY_DELAY': 0.0,\n",
       "  'LATE_AIRCRAFT_DELAY': 0.0,\n",
       "  'Unnamed: 31': None,\n",
       "  'CARRIER_NAME': 'SkyWest Airlines Inc.',\n",
       "  'AIRLINE_NAME': 'SkyWest Airlines Inc.: OO',\n",
       "  'ORIGIN_AIRPORT_NAME': 'Missoula, MT: Missoula International'},\n",
       " {'DAY_OF_MONTH': 21,\n",
       "  'DAY_OF_WEEK': 2,\n",
       "  'FL_DATE': '2017-02-21',\n",
       "  'UNIQUE_CARRIER': 'AA',\n",
       "  'AIRLINE_ID': 19805,\n",
       "  'FL_NUM': 1163,\n",
       "  'ORIGIN_AIRPORT_ID': 11503,\n",
       "  'ORIGIN_CITY_NAME': 'Eagle, CO',\n",
       "  'ORIGIN_STATE_NM': 'Colorado',\n",
       "  'DEST_AIRPORT_ID': 12478,\n",
       "  'DEST_CITY_NAME': 'New York, NY',\n",
       "  'DEST_STATE_NM': 'New York',\n",
       "  'DEP_TIME': 829.0,\n",
       "  'DEP_DELAY': 1409.0,\n",
       "  'TAXI_OUT': 10.0,\n",
       "  'WHEELS_OFF': 839.0,\n",
       "  'WHEELS_ON': 1357.0,\n",
       "  'TAXI_IN': 10.0,\n",
       "  'ARR_TIME': 1407.0,\n",
       "  'ARR_DELAY': 1369.0,\n",
       "  'CANCELLED': 0,\n",
       "  'CANCELLATION_CODE': None,\n",
       "  'DIVERTED': 0,\n",
       "  'ACTUAL_ELAPSED_TIME': 218.0,\n",
       "  'FLIGHTS': 1,\n",
       "  'DISTANCE': 1746,\n",
       "  'CARRIER_DELAY': 694.0,\n",
       "  'WEATHER_DELAY': 0.0,\n",
       "  'NAS_DELAY': 0.0,\n",
       "  'SECURITY_DELAY': 0.0,\n",
       "  'LATE_AIRCRAFT_DELAY': 675.0,\n",
       "  'Unnamed: 31': None,\n",
       "  'CARRIER_NAME': 'American Airlines Inc.',\n",
       "  'AIRLINE_NAME': 'American Airlines Inc.: AA',\n",
       "  'ORIGIN_AIRPORT_NAME': 'Eagle, CO: Eagle County Regional'},\n",
       " {'DAY_OF_MONTH': 22,\n",
       "  'DAY_OF_WEEK': 3,\n",
       "  'FL_DATE': '2017-02-22',\n",
       "  'UNIQUE_CARRIER': 'AA',\n",
       "  'AIRLINE_ID': 19805,\n",
       "  'FL_NUM': 150,\n",
       "  'ORIGIN_AIRPORT_ID': 14771,\n",
       "  'ORIGIN_CITY_NAME': 'San Francisco, CA',\n",
       "  'ORIGIN_STATE_NM': 'California',\n",
       "  'DEST_AIRPORT_ID': 13930,\n",
       "  'DEST_CITY_NAME': 'Chicago, IL',\n",
       "  'DEST_STATE_NM': 'Illinois',\n",
       "  'DEP_TIME': 800.0,\n",
       "  'DEP_DELAY': 1440.0,\n",
       "  'TAXI_OUT': 33.0,\n",
       "  'WHEELS_OFF': 833.0,\n",
       "  'WHEELS_ON': 1352.0,\n",
       "  'TAXI_IN': 21.0,\n",
       "  'ARR_TIME': 1413.0,\n",
       "  'ARR_DELAY': 1442.0,\n",
       "  'CANCELLED': 0,\n",
       "  'CANCELLATION_CODE': None,\n",
       "  'DIVERTED': 0,\n",
       "  'ACTUAL_ELAPSED_TIME': 253.0,\n",
       "  'FLIGHTS': 1,\n",
       "  'DISTANCE': 1846,\n",
       "  'CARRIER_DELAY': 1440.0,\n",
       "  'WEATHER_DELAY': 0.0,\n",
       "  'NAS_DELAY': 2.0,\n",
       "  'SECURITY_DELAY': 0.0,\n",
       "  'LATE_AIRCRAFT_DELAY': 0.0,\n",
       "  'Unnamed: 31': None,\n",
       "  'CARRIER_NAME': 'American Airlines Inc.',\n",
       "  'AIRLINE_NAME': 'American Airlines Inc.: AA',\n",
       "  'ORIGIN_AIRPORT_NAME': 'San Francisco, CA: San Francisco International'},\n",
       " {'DAY_OF_MONTH': 25,\n",
       "  'DAY_OF_WEEK': 6,\n",
       "  'FL_DATE': '2017-02-25',\n",
       "  'UNIQUE_CARRIER': 'AA',\n",
       "  'AIRLINE_ID': 19805,\n",
       "  'FL_NUM': 230,\n",
       "  'ORIGIN_AIRPORT_ID': 12758,\n",
       "  'ORIGIN_CITY_NAME': 'Kona, HI',\n",
       "  'ORIGIN_STATE_NM': 'Hawaii',\n",
       "  'DEST_AIRPORT_ID': 11298,\n",
       "  'DEST_CITY_NAME': 'Dallas/Fort Worth, TX',\n",
       "  'DEST_STATE_NM': 'Texas',\n",
       "  'DEP_TIME': 1850.0,\n",
       "  'DEP_DELAY': 1455.0,\n",
       "  'TAXI_OUT': 14.0,\n",
       "  'WHEELS_OFF': 1904.0,\n",
       "  'WHEELS_ON': 510.0,\n",
       "  'TAXI_IN': 7.0,\n",
       "  'ARR_TIME': 517.0,\n",
       "  'ARR_DELAY': 1412.0,\n",
       "  'CANCELLED': 0,\n",
       "  'CANCELLATION_CODE': None,\n",
       "  'DIVERTED': 0,\n",
       "  'ACTUAL_ELAPSED_TIME': 387.0,\n",
       "  'FLIGHTS': 1,\n",
       "  'DISTANCE': 3724,\n",
       "  'CARRIER_DELAY': 1403.0,\n",
       "  'WEATHER_DELAY': 0.0,\n",
       "  'NAS_DELAY': 0.0,\n",
       "  'SECURITY_DELAY': 0.0,\n",
       "  'LATE_AIRCRAFT_DELAY': 9.0,\n",
       "  'Unnamed: 31': None,\n",
       "  'CARRIER_NAME': 'American Airlines Inc.',\n",
       "  'AIRLINE_NAME': 'American Airlines Inc.: AA',\n",
       "  'ORIGIN_AIRPORT_NAME': 'Kona, HI: Kona International Airport at Keahole'},\n",
       " {'DAY_OF_MONTH': 25,\n",
       "  'DAY_OF_WEEK': 6,\n",
       "  'FL_DATE': '2017-02-25',\n",
       "  'UNIQUE_CARRIER': 'EV',\n",
       "  'AIRLINE_ID': 20366,\n",
       "  'FL_NUM': 5160,\n",
       "  'ORIGIN_AIRPORT_ID': 10135,\n",
       "  'ORIGIN_CITY_NAME': 'Allentown/Bethlehem/Easton, PA',\n",
       "  'ORIGIN_STATE_NM': 'Pennsylvania',\n",
       "  'DEST_AIRPORT_ID': 11433,\n",
       "  'DEST_CITY_NAME': 'Detroit, MI',\n",
       "  'DEST_STATE_NM': 'Michigan',\n",
       "  'DEP_TIME': 2033.0,\n",
       "  'DEP_DELAY': 1668.0,\n",
       "  'TAXI_OUT': 19.0,\n",
       "  'WHEELS_OFF': 2052.0,\n",
       "  'WHEELS_ON': nan,\n",
       "  'TAXI_IN': nan,\n",
       "  'ARR_TIME': nan,\n",
       "  'ARR_DELAY': nan,\n",
       "  'CANCELLED': 0,\n",
       "  'CANCELLATION_CODE': None,\n",
       "  'DIVERTED': 1,\n",
       "  'ACTUAL_ELAPSED_TIME': nan,\n",
       "  'FLIGHTS': 1,\n",
       "  'DISTANCE': 425,\n",
       "  'CARRIER_DELAY': nan,\n",
       "  'WEATHER_DELAY': nan,\n",
       "  'NAS_DELAY': nan,\n",
       "  'SECURITY_DELAY': nan,\n",
       "  'LATE_AIRCRAFT_DELAY': nan,\n",
       "  'Unnamed: 31': None,\n",
       "  'CARRIER_NAME': 'ExpressJet Airlines Inc.',\n",
       "  'AIRLINE_NAME': 'ExpressJet Airlines Inc.: EV',\n",
       "  'ORIGIN_AIRPORT_NAME': 'Allentown/Bethlehem/Easton, PA: Lehigh Valley International'}]"
      ]
     },
     "execution_count": 22,
     "metadata": {},
     "output_type": "execute_result"
    }
   ],
   "source": [
    "long_delay_pick"
   ]
  },
  {
   "cell_type": "code",
   "execution_count": 33,
   "id": "70d25f87",
   "metadata": {},
   "outputs": [
    {
     "ename": "SyntaxError",
     "evalue": "invalid syntax (Temp/ipykernel_27800/4194098965.py, line 11)",
     "output_type": "error",
     "traceback": [
      "\u001b[1;36m  File \u001b[1;32m\"C:\\Users\\14029\\AppData\\Local\\Temp/ipykernel_27800/4194098965.py\"\u001b[1;36m, line \u001b[1;32m11\u001b[0m\n\u001b[1;33m    print('Maximum value:' longest_delay, 'at index:', max_idx)\u001b[0m\n\u001b[1;37m                           ^\u001b[0m\n\u001b[1;31mSyntaxError\u001b[0m\u001b[1;31m:\u001b[0m invalid syntax\n"
     ]
    }
   ],
   "source": [
    "#Which flight had the longest departure delay?\n",
    "longest_delay=None\n",
    "max_idx=None\n",
    "\n",
    "for idx, num in long_delay_pick:\n",
    "    if (longest_delay is None or num > longest_delay):\n",
    "        longest_delay = num\n",
    "        max_idx = idx\n",
    "        \n",
    "        \n",
    "    print('Maximum value:' longest_delay, 'at index:', max_idx)"
   ]
  },
  {
   "cell_type": "code",
   "execution_count": null,
   "id": "ef2d6639",
   "metadata": {},
   "outputs": [],
   "source": []
  }
 ],
 "metadata": {
  "kernelspec": {
   "display_name": "Python 3 (ipykernel)",
   "language": "python",
   "name": "python3"
  },
  "language_info": {
   "codemirror_mode": {
    "name": "ipython",
    "version": 3
   },
   "file_extension": ".py",
   "mimetype": "text/x-python",
   "name": "python",
   "nbconvert_exporter": "python",
   "pygments_lexer": "ipython3",
   "version": "3.9.6"
  },
  "toc-autonumbering": false
 },
 "nbformat": 4,
 "nbformat_minor": 5
}
